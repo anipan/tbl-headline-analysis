{
 "cells": [
  {
   "cell_type": "code",
   "execution_count": 17,
   "metadata": {},
   "outputs": [],
   "source": [
    "# basic imports\n",
    "import re\n",
    "import numpy as np\n",
    "import pandas as pd\n",
    "from pprint import pprint\n",
    "\n",
    "# Gensim\n",
    "import gensim\n",
    "import gensim.corpora as corpora\n",
    "from gensim.utils import simple_preprocess\n",
    "from gensim.models import CoherenceModel\n",
    "\n",
    "# spacy for lemmatization and entity extraction\n",
    "import spacy\n",
    "nlp = spacy.load('en_core_web_md')\n",
    "\n",
    "# plotting and visualization\n",
    "import altair as alt\n",
    "\n",
    "import matplotlib.pyplot as plt\n",
    "%matplotlib inline"
   ]
  },
  {
   "cell_type": "markdown",
   "metadata": {},
   "source": [
    "# LING 111 Final Project - An Analysis of Shared Keywords in Newspaper Headlines and Articles"
   ]
  },
  {
   "cell_type": "markdown",
   "metadata": {},
   "source": [
    "It has become common for online news sources to utilize ‘clickbait’ or short, overgeneralized titles in order to grasp the attention of potential readers. Sometimes, the titles don’t accurately reflect the actual content of the article, and in many cases are misleading due to the ways they can be interpreted.\n",
    "\n",
    "\n",
    "In this project, I analyze the shared keywords between the headlines and article content of a student paper at the University of California, Santa Barbara, and explore the relationship between the amount of information in headlines and reader engagement with the actual article."
   ]
  },
  {
   "cell_type": "markdown",
   "metadata": {},
   "source": [
    "---"
   ]
  },
  {
   "cell_type": "markdown",
   "metadata": {},
   "source": [
    "## Background"
   ]
  },
  {
   "cell_type": "markdown",
   "metadata": {},
   "source": [
    "The Bottom Line is a student-run, student-funded newspaper at the University of California, Santa Barbara. While the newspaper distributes its physical paper across Isla Vista, California, its digital content can be viewed on its website https://thebottomline.as.ucsb.edu/.\n",
    "\n",
    "The data of this research project is obtained through The Bottom Line website using WordPress, which the newspaper is hosted on. Each row of the dataset represents an article from the newspaper's 'NEWS' section during the 2020-2021 academic year, with the variables being the article title, written content, and page views."
   ]
  },
  {
   "cell_type": "markdown",
   "metadata": {},
   "source": [
    "> **Table 1**: variable descriptions for each variable in the dataset.\n",
    "\n",
    "Variable | Description\n",
    "--- | ---\n",
    "Title | Title of the article; headline.\n",
    "Content | Written content within the article.\n",
    "Views | The number of page views of the article as counted by WordPress.\n",
    "\n"
   ]
  },
  {
   "cell_type": "code",
   "execution_count": 18,
   "metadata": {},
   "outputs": [
    {
     "data": {
      "text/html": [
       "<div>\n",
       "<style scoped>\n",
       "    .dataframe tbody tr th:only-of-type {\n",
       "        vertical-align: middle;\n",
       "    }\n",
       "\n",
       "    .dataframe tbody tr th {\n",
       "        vertical-align: top;\n",
       "    }\n",
       "\n",
       "    .dataframe thead th {\n",
       "        text-align: right;\n",
       "    }\n",
       "</style>\n",
       "<table border=\"1\" class=\"dataframe\">\n",
       "  <thead>\n",
       "    <tr style=\"text-align: right;\">\n",
       "      <th></th>\n",
       "      <th>Title</th>\n",
       "      <th>Content</th>\n",
       "      <th>Views</th>\n",
       "    </tr>\n",
       "  </thead>\n",
       "  <tbody>\n",
       "    <tr>\n",
       "      <th>0</th>\n",
       "      <td>UC Irvine Offers UC-Wide Environmental Injusti...</td>\n",
       "      <td>UC Irvine (UCI) recently announced it will ope...</td>\n",
       "      <td>616</td>\n",
       "    </tr>\n",
       "    <tr>\n",
       "      <th>1</th>\n",
       "      <td>UC Santa Barbara Opens Clinic to Distribute Jo...</td>\n",
       "      <td>As COVID-19 vaccines become more widely availa...</td>\n",
       "      <td>701</td>\n",
       "    </tr>\n",
       "    <tr>\n",
       "      <th>2</th>\n",
       "      <td>AS Passes Bill to Reform the Honorarium of Sen...</td>\n",
       "      <td>The UC Santa Barbara (UCSB) Associated Student...</td>\n",
       "      <td>1097</td>\n",
       "    </tr>\n",
       "    <tr>\n",
       "      <th>3</th>\n",
       "      <td>Cops Off Campus: A March to Recognize the Move...</td>\n",
       "      <td>On May 17, UC Santa Barbara’s (UCSB) Cops Off ...</td>\n",
       "      <td>748</td>\n",
       "    </tr>\n",
       "    <tr>\n",
       "      <th>4</th>\n",
       "      <td>Wealthy Countries are Hoarding COVID-19 Vaccin...</td>\n",
       "      <td>If there is one thing to be learned from this ...</td>\n",
       "      <td>1458</td>\n",
       "    </tr>\n",
       "  </tbody>\n",
       "</table>\n",
       "</div>"
      ],
      "text/plain": [
       "                                               Title  \\\n",
       "0  UC Irvine Offers UC-Wide Environmental Injusti...   \n",
       "1  UC Santa Barbara Opens Clinic to Distribute Jo...   \n",
       "2  AS Passes Bill to Reform the Honorarium of Sen...   \n",
       "3  Cops Off Campus: A March to Recognize the Move...   \n",
       "4  Wealthy Countries are Hoarding COVID-19 Vaccin...   \n",
       "\n",
       "                                             Content  Views  \n",
       "0  UC Irvine (UCI) recently announced it will ope...    616  \n",
       "1  As COVID-19 vaccines become more widely availa...    701  \n",
       "2  The UC Santa Barbara (UCSB) Associated Student...   1097  \n",
       "3  On May 17, UC Santa Barbara’s (UCSB) Cops Off ...    748  \n",
       "4  If there is one thing to be learned from this ...   1458  "
      ]
     },
     "execution_count": 18,
     "metadata": {},
     "output_type": "execute_result"
    }
   ],
   "source": [
    "df = pd.read_csv('tbl_news.csv')\n",
    "df.head()"
   ]
  },
  {
   "cell_type": "code",
   "execution_count": 19,
   "metadata": {},
   "outputs": [
    {
     "data": {
      "text/plain": [
       "(64, 3)"
      ]
     },
     "execution_count": 19,
     "metadata": {},
     "output_type": "execute_result"
    }
   ],
   "source": [
    "df.shape"
   ]
  },
  {
   "cell_type": "markdown",
   "metadata": {},
   "source": [
    "---"
   ]
  },
  {
   "cell_type": "markdown",
   "metadata": {},
   "source": [
    "## Exploratory Analysis"
   ]
  },
  {
   "cell_type": "markdown",
   "metadata": {},
   "source": [
    "### Topic Modeling\n",
    "NLTK and spaCy is initially used to pre-process the headline and content text by removing stopwords and lemmatizing the text. Then, Gensim's LDA model is used to perform topic modeling across all article content. (TBD: I also repeat this with the headlines, just to see if the same topics appear.)\n",
    "\n",
    "The code and methods in this exploration is mainly based off of this article: https://www.machinelearningplus.com/nlp/topic-modeling-gensim-python/."
   ]
  },
  {
   "cell_type": "markdown",
   "metadata": {},
   "source": [
    "#### Pre-processing via NLTK and spaCy"
   ]
  },
  {
   "cell_type": "markdown",
   "metadata": {},
   "source": [
    "Removing punctuation, unnecessary characters, whitespace and tokenizing the content."
   ]
  },
  {
   "cell_type": "code",
   "execution_count": 20,
   "metadata": {},
   "outputs": [],
   "source": [
    "from nltk.corpus import stopwords\n",
    "stop_words = stopwords.words('english')\n",
    "stop_words.extend(['from', 'subject', 're', 'edu', 'use'])"
   ]
  },
  {
   "cell_type": "code",
   "execution_count": 21,
   "metadata": {},
   "outputs": [],
   "source": [
    "def sent_to_words(sentences):\n",
    "    for sentence in sentences:\n",
    "        yield(gensim.utils.simple_preprocess(str(sentence), deacc=True))  # deacc=True removes punctuations"
   ]
  },
  {
   "cell_type": "code",
   "execution_count": 22,
   "metadata": {},
   "outputs": [
    {
     "name": "stdout",
     "output_type": "stream",
     "text": [
      "['uc', 'irvine', 'uci', 'recently', 'announced', 'it', 'will', 'open', 'up', 'its', 'anthropology', 'course', 'titled', 'environmental', 'injustice', 'to', 'all', 'uc', 'students', 'during', 'the', 'upcoming', 'summer', 'and', 'fall', 'quarters', 'this', 'course', 'will', 'be', 'available', 'as', 'anth', 'and', 'will', 'focus', 'on', 'researching', 'case', 'studies', 'of', 'environmental', 'injustice', 'in', 'communities', 'across', 'california', 'the', 'bottom', 'line']\n"
     ]
    }
   ],
   "source": [
    "# Convert to list\n",
    "data = df.Content.values.tolist()\n",
    "\n",
    "data_words = list(sent_to_words(data))\n",
    "\n",
    "print(data_words[:1][0][:50])"
   ]
  },
  {
   "cell_type": "markdown",
   "metadata": {},
   "source": [
    "#### Creating Bigram and Trigram Models"
   ]
  },
  {
   "cell_type": "code",
   "execution_count": 23,
   "metadata": {},
   "outputs": [
    {
     "name": "stdout",
     "output_type": "stream",
     "text": [
      "['uc', 'irvine', 'uci', 'recently', 'announced', 'it', 'will', 'open', 'up', 'its', 'anthropology', 'course', 'titled', 'environmental', 'injustice', 'to', 'all', 'uc', 'students', 'during', 'the', 'upcoming', 'summer', 'and', 'fall', 'quarters', 'this', 'course', 'will', 'be', 'available', 'as', 'anth', 'and', 'will', 'focus', 'on', 'researching', 'case', 'studies', 'of', 'environmental', 'injustice', 'in', 'communities', 'across', 'california', 'the', 'bottom_line']\n"
     ]
    }
   ],
   "source": [
    "# Build the bigram and trigram models\n",
    "bigram = gensim.models.Phrases(data_words, min_count=5, threshold=100) # higher threshold fewer phrases.\n",
    "trigram = gensim.models.Phrases(bigram[data_words], threshold=100)  \n",
    "\n",
    "# Faster way to get a sentence clubbed as a trigram/bigram\n",
    "bigram_mod = gensim.models.phrases.Phraser(bigram)\n",
    "trigram_mod = gensim.models.phrases.Phraser(trigram)\n",
    "\n",
    "# See trigram example\n",
    "print(trigram_mod[bigram_mod[data_words[0][:50]]])"
   ]
  },
  {
   "cell_type": "markdown",
   "metadata": {},
   "source": [
    "Looks like Gensim's bigram/trigram model picks up 'bottom_line' as a phrase, which makes sense as the words are often stated in the paper as \"The Bottom Line.\""
   ]
  },
  {
   "cell_type": "code",
   "execution_count": 24,
   "metadata": {},
   "outputs": [],
   "source": [
    "def remove_stopwords(texts):\n",
    "    return [[word for word in simple_preprocess(str(doc)) if word not in stop_words] for doc in texts]\n",
    "\n",
    "def make_bigrams(texts):\n",
    "    return [bigram_mod[doc] for doc in texts]\n",
    "\n",
    "def make_trigrams(texts):\n",
    "    return [trigram_mod[bigram_mod[doc]] for doc in texts]\n",
    "\n",
    "def lemmatization(texts, allowed_postags=['NOUN', 'ADJ', 'VERB', 'ADV']):\n",
    "    \"\"\"https://spacy.io/api/annotation\"\"\"\n",
    "    texts_out = []\n",
    "    for sent in texts:\n",
    "        doc = nlp(\" \".join(sent)) \n",
    "        texts_out.append([token.lemma_ for token in doc if token.pos_ in allowed_postags])\n",
    "    return texts_out"
   ]
  },
  {
   "cell_type": "markdown",
   "metadata": {},
   "source": [
    "Removing stopwords, creating bigrams, and lemmatizing the bigrams."
   ]
  },
  {
   "cell_type": "code",
   "execution_count": 25,
   "metadata": {},
   "outputs": [
    {
     "name": "stdout",
     "output_type": "stream",
     "text": [
      "['recently', 'announce', 'open', 'anthropology', 'course', 'title', 'environmental', 'student', 'upcome', 'summer', 'fall', 'quarter', 'course', 'available', 'anth', 'focus', 'research', 'case', 'study', 'environmental', 'injustice', 'community', 'tbl', 'sit', 'teach', 'assistant', 'learn', 'upcoming', 'course', 'course', 'create', 'research', 'experience', 'environmental', 'disaster', 'affect', 'fortun', 'part', 'platform', 'experimental', 'collaborative', 'ethnography', 'pece', 'open', 'source', 'software', 'bring', 'scientist', 'discipline', 'collaboration']\n"
     ]
    }
   ],
   "source": [
    "# Remove Stop Words\n",
    "data_words_nostops = remove_stopwords(data_words)\n",
    "\n",
    "# Form Bigrams\n",
    "data_words_bigrams = make_bigrams(data_words_nostops)\n",
    "\n",
    "# Initialize spacy 'en' model, keeping only tagger component (for efficiency)\n",
    "# python3 -m spacy download en\n",
    "nlp = spacy.load('en_core_web_md', disable=['parser', 'ner'])\n",
    "\n",
    "# Do lemmatization keeping only noun, adj, vb, adv\n",
    "data_lemmatized = lemmatization(data_words_bigrams, allowed_postags=['NOUN', 'ADJ', 'VERB', 'ADV'])\n",
    "\n",
    "print(data_lemmatized[:1][0][:50])"
   ]
  },
  {
   "cell_type": "markdown",
   "metadata": {},
   "source": [
    "Creating a dictionary for the context corpus."
   ]
  },
  {
   "cell_type": "code",
   "execution_count": 26,
   "metadata": {},
   "outputs": [
    {
     "name": "stdout",
     "output_type": "stream",
     "text": [
      "[(0, 1), (1, 2), (2, 2), (3, 2), (4, 2), (5, 1), (6, 2), (7, 1), (8, 1), (9, 1), (10, 2), (11, 2), (12, 2), (13, 1), (14, 1), (15, 1), (16, 1), (17, 1), (18, 1), (19, 1), (20, 2), (21, 1), (22, 2), (23, 1), (24, 1), (25, 1), (26, 2), (27, 1), (28, 1), (29, 2), (30, 1), (31, 5), (32, 2), (33, 1), (34, 8), (35, 1), (36, 1), (37, 2), (38, 1), (39, 3), (40, 1), (41, 1), (42, 1), (43, 1), (44, 1), (45, 1), (46, 1), (47, 12), (48, 1), (49, 1)]\n"
     ]
    }
   ],
   "source": [
    "# Create Dictionary\n",
    "id2word = corpora.Dictionary(data_lemmatized)\n",
    "\n",
    "# Create Corpus\n",
    "texts = data_lemmatized\n",
    "\n",
    "# Term Document Frequency\n",
    "corpus = [id2word.doc2bow(text) for text in texts]\n",
    "\n",
    "# View\n",
    "print(corpus[:1][0][:50])"
   ]
  },
  {
   "cell_type": "markdown",
   "metadata": {},
   "source": [
    "#### Topic modeling via Gensim LDA"
   ]
  },
  {
   "cell_type": "markdown",
   "metadata": {},
   "source": [
    "Building the LDA model."
   ]
  },
  {
   "cell_type": "code",
   "execution_count": 27,
   "metadata": {},
   "outputs": [],
   "source": [
    "# Build LDA model\n",
    "lda_model = gensim.models.ldamodel.LdaModel(corpus=corpus,\n",
    "                                           id2word=id2word,\n",
    "                                           num_topics=10, \n",
    "                                           random_state=100,\n",
    "                                           update_every=1,\n",
    "                                           chunksize=100,\n",
    "                                           passes=10,\n",
    "                                           alpha='auto',\n",
    "                                           per_word_topics=True)"
   ]
  },
  {
   "cell_type": "code",
   "execution_count": 28,
   "metadata": {},
   "outputs": [
    {
     "name": "stdout",
     "output_type": "stream",
     "text": [
      "[(0,\n",
      "  '0.023*\"student\" + 0.010*\"university\" + 0.007*\"say\" + 0.007*\"community\" + '\n",
      "  '0.007*\"go\" + 0.006*\"party\" + 0.006*\"year\" + 0.006*\"people\" + '\n",
      "  '0.006*\"ranking\" + 0.006*\"make\"'),\n",
      " (1,\n",
      "  '0.032*\"student\" + 0.017*\"campus\" + 0.008*\"fee\" + 0.008*\"service\" + '\n",
      "  '0.007*\"reopen\" + 0.006*\"program\" + 0.006*\"covid\" + 0.006*\"undergraduate\" + '\n",
      "  '0.006*\"quarter\" + 0.006*\"also\"'),\n",
      " (2,\n",
      "  '0.027*\"student\" + 0.024*\"vaccine\" + 0.014*\"covid\" + 0.012*\"people\" + '\n",
      "  '0.012*\"say\" + 0.009*\"health\" + 0.006*\"receive\" + 0.006*\"county\" + '\n",
      "  '0.006*\"get\" + 0.005*\"many\"'),\n",
      " (3,\n",
      "  '0.015*\"police\" + 0.012*\"say\" + 0.012*\"ordinance\" + 0.012*\"student\" + '\n",
      "  '0.011*\"campus\" + 0.011*\"community\" + 0.009*\"people\" + 0.008*\"county\" + '\n",
      "  '0.008*\"take\" + 0.008*\"cop\"'),\n",
      " (4,\n",
      "  '0.034*\"student\" + 0.010*\"school\" + 0.010*\"program\" + 0.009*\"year\" + '\n",
      "  '0.009*\"covid\" + 0.008*\"county\" + 0.007*\"make\" + 0.007*\"pell_grant\" + '\n",
      "  '0.006*\"grant\" + 0.006*\"person\"'),\n",
      " (5,\n",
      "  '0.012*\"group\" + 0.012*\"event\" + 0.010*\"protest\" + 0.010*\"construction\" + '\n",
      "  '0.010*\"protestor\" + 0.008*\"community\" + 0.008*\"developer\" + 0.008*\"chumash\" '\n",
      "  '+ 0.008*\"preserve\" + 0.007*\"say\"'),\n",
      " (6,\n",
      "  '0.014*\"order\" + 0.012*\"county\" + 0.010*\"stay\" + 0.008*\"covid\" + '\n",
      "  '0.008*\"home\" + 0.008*\"restaurant\" + 0.006*\"service\" + 0.006*\"go\" + '\n",
      "  '0.006*\"percent\" + 0.006*\"case\"'),\n",
      " (7,\n",
      "  '0.038*\"student\" + 0.011*\"campus\" + 0.010*\"also\" + 0.008*\"covid\" + '\n",
      "  '0.006*\"year\" + 0.005*\"vaccine\" + 0.005*\"drug\" + 0.005*\"county\" + '\n",
      "  '0.005*\"many\" + 0.005*\"accord\"'),\n",
      " (8,\n",
      "  '0.026*\"student\" + 0.017*\"research\" + 0.012*\"project\" + 0.008*\"people\" + '\n",
      "  '0.007*\"say\" + 0.007*\"application\" + 0.007*\"also\" + 0.007*\"undergraduate\" + '\n",
      "  '0.007*\"community\" + 0.006*\"protest\"'),\n",
      " (9,\n",
      "  '0.024*\"student\" + 0.013*\"campus\" + 0.013*\"year\" + 0.012*\"say\" + '\n",
      "  '0.010*\"admission\" + 0.009*\"position\" + 0.009*\"school\" + 0.008*\"housing\" + '\n",
      "  '0.008*\"change\" + 0.006*\"take\"')]\n"
     ]
    }
   ],
   "source": [
    "# Print the Keyword in the 10 topics\n",
    "pprint(lda_model.print_topics())\n",
    "doc_lda = lda_model[corpus]"
   ]
  },
  {
   "cell_type": "code",
   "execution_count": 29,
   "metadata": {},
   "outputs": [
    {
     "name": "stdout",
     "output_type": "stream",
     "text": [
      "\n",
      "Perplexity:  -7.433683826035965\n",
      "\n",
      "Coherence Score:  0.3472314215321708\n"
     ]
    }
   ],
   "source": [
    "# Compute Perplexity\n",
    "print('\\nPerplexity: ', lda_model.log_perplexity(corpus))  # a measure of how good the model is. lower the better.\n",
    "\n",
    "# Compute Coherence Score\n",
    "coherence_model_lda = CoherenceModel(model=lda_model, texts=data_lemmatized, dictionary=id2word, coherence='c_v')\n",
    "coherence_lda = coherence_model_lda.get_coherence()\n",
    "print('\\nCoherence Score: ', coherence_lda)"
   ]
  },
  {
   "cell_type": "markdown",
   "metadata": {},
   "source": [
    "#### Article Title Length vs. Page Views"
   ]
  },
  {
   "cell_type": "markdown",
   "metadata": {},
   "source": [
    "Short news article titles are often vague or too broad, leaving out key information that usually tells more of the specific truths of the article. Therefore, I wanted to see whether the lengths of the titles had any correlation with the page views of the articles."
   ]
  },
  {
   "cell_type": "code",
   "execution_count": 30,
   "metadata": {},
   "outputs": [
    {
     "data": {
      "text/html": [
       "\n",
       "<div id=\"altair-viz-95376c7605ef44f18c441c8bf8525882\"></div>\n",
       "<script type=\"text/javascript\">\n",
       "  var VEGA_DEBUG = (typeof VEGA_DEBUG == \"undefined\") ? {} : VEGA_DEBUG;\n",
       "  (function(spec, embedOpt){\n",
       "    let outputDiv = document.currentScript.previousElementSibling;\n",
       "    if (outputDiv.id !== \"altair-viz-95376c7605ef44f18c441c8bf8525882\") {\n",
       "      outputDiv = document.getElementById(\"altair-viz-95376c7605ef44f18c441c8bf8525882\");\n",
       "    }\n",
       "    const paths = {\n",
       "      \"vega\": \"https://cdn.jsdelivr.net/npm//vega@5?noext\",\n",
       "      \"vega-lib\": \"https://cdn.jsdelivr.net/npm//vega-lib?noext\",\n",
       "      \"vega-lite\": \"https://cdn.jsdelivr.net/npm//vega-lite@4.17.0?noext\",\n",
       "      \"vega-embed\": \"https://cdn.jsdelivr.net/npm//vega-embed@6?noext\",\n",
       "    };\n",
       "\n",
       "    function maybeLoadScript(lib, version) {\n",
       "      var key = `${lib.replace(\"-\", \"\")}_version`;\n",
       "      return (VEGA_DEBUG[key] == version) ?\n",
       "        Promise.resolve(paths[lib]) :\n",
       "        new Promise(function(resolve, reject) {\n",
       "          var s = document.createElement('script');\n",
       "          document.getElementsByTagName(\"head\")[0].appendChild(s);\n",
       "          s.async = true;\n",
       "          s.onload = () => {\n",
       "            VEGA_DEBUG[key] = version;\n",
       "            return resolve(paths[lib]);\n",
       "          };\n",
       "          s.onerror = () => reject(`Error loading script: ${paths[lib]}`);\n",
       "          s.src = paths[lib];\n",
       "        });\n",
       "    }\n",
       "\n",
       "    function showError(err) {\n",
       "      outputDiv.innerHTML = `<div class=\"error\" style=\"color:red;\">${err}</div>`;\n",
       "      throw err;\n",
       "    }\n",
       "\n",
       "    function displayChart(vegaEmbed) {\n",
       "      vegaEmbed(outputDiv, spec, embedOpt)\n",
       "        .catch(err => showError(`Javascript Error: ${err.message}<br>This usually means there's a typo in your chart specification. See the javascript console for the full traceback.`));\n",
       "    }\n",
       "\n",
       "    if(typeof define === \"function\" && define.amd) {\n",
       "      requirejs.config({paths});\n",
       "      require([\"vega-embed\"], displayChart, err => showError(`Error loading script: ${err.message}`));\n",
       "    } else {\n",
       "      maybeLoadScript(\"vega\", \"5\")\n",
       "        .then(() => maybeLoadScript(\"vega-lite\", \"4.17.0\"))\n",
       "        .then(() => maybeLoadScript(\"vega-embed\", \"6\"))\n",
       "        .catch(showError)\n",
       "        .then(() => displayChart(vegaEmbed));\n",
       "    }\n",
       "  })({\"config\": {\"view\": {\"continuousWidth\": 400, \"continuousHeight\": 300}}, \"data\": {\"name\": \"data-b331a1215dc1c618202af93323dd3d4f\"}, \"mark\": \"bar\", \"encoding\": {\"x\": {\"field\": \"Title_Length_W\", \"scale\": {\"zero\": false}, \"title\": \"Count of Words in Article Title\", \"type\": \"quantitative\"}, \"y\": {\"aggregate\": \"mean\", \"field\": \"Views\", \"scale\": {\"zero\": false}, \"title\": \"Mean Count of Page Views\", \"type\": \"quantitative\"}}, \"$schema\": \"https://vega.github.io/schema/vega-lite/v4.17.0.json\", \"datasets\": {\"data-b331a1215dc1c618202af93323dd3d4f\": [{\"Title_Length_W\": 10, \"Views\": 616}, {\"Title_Length_W\": 13, \"Views\": 701}, {\"Title_Length_W\": 11, \"Views\": 1097}, {\"Title_Length_W\": 9, \"Views\": 748}, {\"Title_Length_W\": 12, \"Views\": 1458}, {\"Title_Length_W\": 6, \"Views\": 1267}, {\"Title_Length_W\": 8, \"Views\": 1276}, {\"Title_Length_W\": 10, \"Views\": 795}, {\"Title_Length_W\": 11, \"Views\": 769}, {\"Title_Length_W\": 4, \"Views\": 822}, {\"Title_Length_W\": 7, \"Views\": 771}, {\"Title_Length_W\": 9, \"Views\": 864}, {\"Title_Length_W\": 8, \"Views\": 742}, {\"Title_Length_W\": 4, \"Views\": 823}, {\"Title_Length_W\": 3, \"Views\": 972}, {\"Title_Length_W\": 11, \"Views\": 1024}, {\"Title_Length_W\": 5, \"Views\": 1173}, {\"Title_Length_W\": 6, \"Views\": 768}, {\"Title_Length_W\": 3, \"Views\": 1191}, {\"Title_Length_W\": 8, \"Views\": 610}, {\"Title_Length_W\": 6, \"Views\": 1413}, {\"Title_Length_W\": 9, \"Views\": 2973}, {\"Title_Length_W\": 8, \"Views\": 2171}, {\"Title_Length_W\": 4, \"Views\": 835}, {\"Title_Length_W\": 5, \"Views\": 1046}, {\"Title_Length_W\": 6, \"Views\": 1797}, {\"Title_Length_W\": 5, \"Views\": 1742}, {\"Title_Length_W\": 6, \"Views\": 1384}, {\"Title_Length_W\": 9, \"Views\": 2586}, {\"Title_Length_W\": 5, \"Views\": 2511}, {\"Title_Length_W\": 8, \"Views\": 1621}, {\"Title_Length_W\": 3, \"Views\": 1756}, {\"Title_Length_W\": 4, \"Views\": 1411}, {\"Title_Length_W\": 7, \"Views\": 1238}, {\"Title_Length_W\": 6, \"Views\": 997}, {\"Title_Length_W\": 4, \"Views\": 654}, {\"Title_Length_W\": 3, \"Views\": 1567}, {\"Title_Length_W\": 6, \"Views\": 1177}, {\"Title_Length_W\": 7, \"Views\": 4014}, {\"Title_Length_W\": 8, \"Views\": 2800}, {\"Title_Length_W\": 5, \"Views\": 2141}, {\"Title_Length_W\": 9, \"Views\": 2322}, {\"Title_Length_W\": 5, \"Views\": 1255}, {\"Title_Length_W\": 5, \"Views\": 1541}, {\"Title_Length_W\": 7, \"Views\": 1640}, {\"Title_Length_W\": 3, \"Views\": 1301}, {\"Title_Length_W\": 9, \"Views\": 3270}, {\"Title_Length_W\": 6, \"Views\": 902}, {\"Title_Length_W\": 7, \"Views\": 2049}, {\"Title_Length_W\": 7, \"Views\": 789}, {\"Title_Length_W\": 5, \"Views\": 1421}, {\"Title_Length_W\": 8, \"Views\": 1040}, {\"Title_Length_W\": 6, \"Views\": 1415}, {\"Title_Length_W\": 9, \"Views\": 1750}, {\"Title_Length_W\": 11, \"Views\": 1236}, {\"Title_Length_W\": 9, \"Views\": 1165}, {\"Title_Length_W\": 8, \"Views\": 1267}, {\"Title_Length_W\": 8, \"Views\": 1560}, {\"Title_Length_W\": 6, \"Views\": 1050}, {\"Title_Length_W\": 6, \"Views\": 1480}, {\"Title_Length_W\": 9, \"Views\": 691}, {\"Title_Length_W\": 3, \"Views\": 1623}, {\"Title_Length_W\": 13, \"Views\": 1535}, {\"Title_Length_W\": 3, \"Views\": 3773}]}}, {\"mode\": \"vega-lite\"});\n",
       "</script>"
      ],
      "text/plain": [
       "alt.Chart(...)"
      ]
     },
     "execution_count": 30,
     "metadata": {},
     "output_type": "execute_result"
    }
   ],
   "source": [
    "df['Title_Length_W'] = df.apply(lambda row: len((row.Title.split())), axis=1)\n",
    "\n",
    "fig1 = alt.Chart(df[['Title_Length_W', 'Views']]).mark_bar().encode(\n",
    "    y = alt.Y('mean(Views)', title = 'Mean Count of Page Views', scale = alt.Scale(zero = False)),\n",
    "    x = alt.X('Title_Length_W', title = 'Count of Words in Article Title', scale = alt.Scale(zero = False))\n",
    ")\n",
    "fig1"
   ]
  },
  {
   "cell_type": "code",
   "execution_count": 31,
   "metadata": {},
   "outputs": [
    {
     "data": {
      "text/html": [
       "\n",
       "<div id=\"altair-viz-ff97f5a891d54cd088daf3bb90d6b9ea\"></div>\n",
       "<script type=\"text/javascript\">\n",
       "  var VEGA_DEBUG = (typeof VEGA_DEBUG == \"undefined\") ? {} : VEGA_DEBUG;\n",
       "  (function(spec, embedOpt){\n",
       "    let outputDiv = document.currentScript.previousElementSibling;\n",
       "    if (outputDiv.id !== \"altair-viz-ff97f5a891d54cd088daf3bb90d6b9ea\") {\n",
       "      outputDiv = document.getElementById(\"altair-viz-ff97f5a891d54cd088daf3bb90d6b9ea\");\n",
       "    }\n",
       "    const paths = {\n",
       "      \"vega\": \"https://cdn.jsdelivr.net/npm//vega@5?noext\",\n",
       "      \"vega-lib\": \"https://cdn.jsdelivr.net/npm//vega-lib?noext\",\n",
       "      \"vega-lite\": \"https://cdn.jsdelivr.net/npm//vega-lite@4.17.0?noext\",\n",
       "      \"vega-embed\": \"https://cdn.jsdelivr.net/npm//vega-embed@6?noext\",\n",
       "    };\n",
       "\n",
       "    function maybeLoadScript(lib, version) {\n",
       "      var key = `${lib.replace(\"-\", \"\")}_version`;\n",
       "      return (VEGA_DEBUG[key] == version) ?\n",
       "        Promise.resolve(paths[lib]) :\n",
       "        new Promise(function(resolve, reject) {\n",
       "          var s = document.createElement('script');\n",
       "          document.getElementsByTagName(\"head\")[0].appendChild(s);\n",
       "          s.async = true;\n",
       "          s.onload = () => {\n",
       "            VEGA_DEBUG[key] = version;\n",
       "            return resolve(paths[lib]);\n",
       "          };\n",
       "          s.onerror = () => reject(`Error loading script: ${paths[lib]}`);\n",
       "          s.src = paths[lib];\n",
       "        });\n",
       "    }\n",
       "\n",
       "    function showError(err) {\n",
       "      outputDiv.innerHTML = `<div class=\"error\" style=\"color:red;\">${err}</div>`;\n",
       "      throw err;\n",
       "    }\n",
       "\n",
       "    function displayChart(vegaEmbed) {\n",
       "      vegaEmbed(outputDiv, spec, embedOpt)\n",
       "        .catch(err => showError(`Javascript Error: ${err.message}<br>This usually means there's a typo in your chart specification. See the javascript console for the full traceback.`));\n",
       "    }\n",
       "\n",
       "    if(typeof define === \"function\" && define.amd) {\n",
       "      requirejs.config({paths});\n",
       "      require([\"vega-embed\"], displayChart, err => showError(`Error loading script: ${err.message}`));\n",
       "    } else {\n",
       "      maybeLoadScript(\"vega\", \"5\")\n",
       "        .then(() => maybeLoadScript(\"vega-lite\", \"4.17.0\"))\n",
       "        .then(() => maybeLoadScript(\"vega-embed\", \"6\"))\n",
       "        .catch(showError)\n",
       "        .then(() => displayChart(vegaEmbed));\n",
       "    }\n",
       "  })({\"config\": {\"view\": {\"continuousWidth\": 400, \"continuousHeight\": 300}}, \"data\": {\"name\": \"data-e9648d0624907a4dbc8f7c55ec688a9f\"}, \"mark\": \"bar\", \"encoding\": {\"x\": {\"field\": \"Title_Length_C\", \"scale\": {\"zero\": false}, \"title\": \"Count of Characters in Article Title\", \"type\": \"quantitative\"}, \"y\": {\"aggregate\": \"mean\", \"field\": \"Views\", \"scale\": {\"zero\": false}, \"title\": \"Count of Page Views\", \"type\": \"quantitative\"}}, \"$schema\": \"https://vega.github.io/schema/vega-lite/v4.17.0.json\", \"datasets\": {\"data-e9648d0624907a4dbc8f7c55ec688a9f\": [{\"Title_Length_C\": 79, \"Views\": 616}, {\"Title_Length_C\": 88, \"Views\": 701}, {\"Title_Length_C\": 60, \"Views\": 1097}, {\"Title_Length_C\": 50, \"Views\": 748}, {\"Title_Length_C\": 81, \"Views\": 1458}, {\"Title_Length_C\": 36, \"Views\": 1267}, {\"Title_Length_C\": 60, \"Views\": 1276}, {\"Title_Length_C\": 66, \"Views\": 795}, {\"Title_Length_C\": 66, \"Views\": 769}, {\"Title_Length_C\": 31, \"Views\": 822}, {\"Title_Length_C\": 56, \"Views\": 771}, {\"Title_Length_C\": 57, \"Views\": 864}, {\"Title_Length_C\": 61, \"Views\": 742}, {\"Title_Length_C\": 35, \"Views\": 823}, {\"Title_Length_C\": 19, \"Views\": 972}, {\"Title_Length_C\": 68, \"Views\": 1024}, {\"Title_Length_C\": 35, \"Views\": 1173}, {\"Title_Length_C\": 38, \"Views\": 768}, {\"Title_Length_C\": 18, \"Views\": 1191}, {\"Title_Length_C\": 61, \"Views\": 610}, {\"Title_Length_C\": 46, \"Views\": 1413}, {\"Title_Length_C\": 57, \"Views\": 2973}, {\"Title_Length_C\": 64, \"Views\": 2171}, {\"Title_Length_C\": 17, \"Views\": 835}, {\"Title_Length_C\": 44, \"Views\": 1046}, {\"Title_Length_C\": 35, \"Views\": 1797}, {\"Title_Length_C\": 36, \"Views\": 1742}, {\"Title_Length_C\": 33, \"Views\": 1384}, {\"Title_Length_C\": 61, \"Views\": 2586}, {\"Title_Length_C\": 38, \"Views\": 2511}, {\"Title_Length_C\": 52, \"Views\": 1621}, {\"Title_Length_C\": 24, \"Views\": 1756}, {\"Title_Length_C\": 38, \"Views\": 1411}, {\"Title_Length_C\": 42, \"Views\": 1238}, {\"Title_Length_C\": 39, \"Views\": 997}, {\"Title_Length_C\": 35, \"Views\": 654}, {\"Title_Length_C\": 19, \"Views\": 1567}, {\"Title_Length_C\": 39, \"Views\": 1177}, {\"Title_Length_C\": 39, \"Views\": 4014}, {\"Title_Length_C\": 63, \"Views\": 2800}, {\"Title_Length_C\": 41, \"Views\": 2141}, {\"Title_Length_C\": 54, \"Views\": 2322}, {\"Title_Length_C\": 40, \"Views\": 1255}, {\"Title_Length_C\": 25, \"Views\": 1541}, {\"Title_Length_C\": 61, \"Views\": 1640}, {\"Title_Length_C\": 23, \"Views\": 1301}, {\"Title_Length_C\": 63, \"Views\": 3270}, {\"Title_Length_C\": 37, \"Views\": 902}, {\"Title_Length_C\": 46, \"Views\": 2049}, {\"Title_Length_C\": 52, \"Views\": 789}, {\"Title_Length_C\": 44, \"Views\": 1421}, {\"Title_Length_C\": 56, \"Views\": 1040}, {\"Title_Length_C\": 34, \"Views\": 1415}, {\"Title_Length_C\": 59, \"Views\": 1750}, {\"Title_Length_C\": 78, \"Views\": 1236}, {\"Title_Length_C\": 59, \"Views\": 1165}, {\"Title_Length_C\": 48, \"Views\": 1267}, {\"Title_Length_C\": 54, \"Views\": 1560}, {\"Title_Length_C\": 37, \"Views\": 1050}, {\"Title_Length_C\": 50, \"Views\": 1480}, {\"Title_Length_C\": 60, \"Views\": 691}, {\"Title_Length_C\": 20, \"Views\": 1623}, {\"Title_Length_C\": 90, \"Views\": 1535}, {\"Title_Length_C\": 21, \"Views\": 3773}]}}, {\"mode\": \"vega-lite\"});\n",
       "</script>"
      ],
      "text/plain": [
       "alt.Chart(...)"
      ]
     },
     "execution_count": 31,
     "metadata": {},
     "output_type": "execute_result"
    }
   ],
   "source": [
    "df['Title_Length_C'] = df.apply(lambda row: len((row.Title)), axis=1)\n",
    "\n",
    "fig2 = alt.Chart(df[['Title_Length_C', 'Views']]).mark_bar().encode(\n",
    "    y = alt.Y('mean(Views)', title = 'Count of Page Views', scale = alt.Scale(zero = False)),\n",
    "    x = alt.X('Title_Length_C', title = 'Count of Characters in Article Title', scale = alt.Scale(zero = False))\n",
    ")\n",
    "fig2"
   ]
  },
  {
   "cell_type": "markdown",
   "metadata": {},
   "source": [
    "On average, it seems that article headlines with 3, 5, 7, and 9 words get the highest number of page views. There does seem to be a general increase in page views as the count of words increases, peaking at 9 words and going mostly downhill from there."
   ]
  },
  {
   "cell_type": "markdown",
   "metadata": {},
   "source": [
    "---"
   ]
  },
  {
   "cell_type": "markdown",
   "metadata": {},
   "source": [
    "## Methods"
   ]
  },
  {
   "cell_type": "markdown",
   "metadata": {},
   "source": [
    "### Headline vs. Content Analysis\n",
    "\n",
    "First, I process the article text, performing tokenization and lemmatization as well as filtering out stopwords and punctuation.\n",
    "\n",
    "Using spaCy's named entity recognition, I extract the main entity keywords from each article. Then, I compare the keywords extracted with the keywords in the headline, checking how many named entities are named in the actual headline.\n",
    "\n",
    "I also create a weighted version of this keyword extraction and comparison, placing more weight on the keywords with higher occurrences in the article.\n",
    "\n",
    "Finally, I used Pearson's Correlation Coefficient to determine whether the number of shared keywords between an article and its headline is positively or negatively correlated with page views."
   ]
  },
  {
   "cell_type": "code",
   "execution_count": 32,
   "metadata": {},
   "outputs": [],
   "source": [
    "def spacy_process(text):\n",
    "    # lowering case messes with the entity recognition\n",
    "    doc = nlp(text)\n",
    "    \n",
    "#Tokenization and lemmatization are done with the spacy nlp pipeline commands\n",
    "    lemma_list = []\n",
    "    for token in doc:\n",
    "        lemma_list.append(token.lemma_)\n",
    "    \n",
    "    #Filter the stopword\n",
    "    filtered_sentence =[] \n",
    "    for word in lemma_list:\n",
    "        lexeme = nlp.vocab[word]\n",
    "        if lexeme.is_stop == False:\n",
    "            filtered_sentence.append(word) \n",
    "    \n",
    "    #Remove punctuation\n",
    "    punctuations=\"?:!.,;\"\n",
    "    for word in filtered_sentence:\n",
    "        if word in punctuations:\n",
    "            filtered_sentence.remove(word)\n",
    "            \n",
    "    return(\" \".join(filtered_sentence))"
   ]
  },
  {
   "cell_type": "code",
   "execution_count": 33,
   "metadata": {},
   "outputs": [],
   "source": [
    "df['Processed_Content'] = df.apply(lambda row: spacy_process(row.Content), axis=1) # Entities is a list of spaCy spans(tokens within)"
   ]
  },
  {
   "cell_type": "code",
   "execution_count": 34,
   "metadata": {},
   "outputs": [
    {
     "data": {
      "text/html": [
       "<div>\n",
       "<style scoped>\n",
       "    .dataframe tbody tr th:only-of-type {\n",
       "        vertical-align: middle;\n",
       "    }\n",
       "\n",
       "    .dataframe tbody tr th {\n",
       "        vertical-align: top;\n",
       "    }\n",
       "\n",
       "    .dataframe thead th {\n",
       "        text-align: right;\n",
       "    }\n",
       "</style>\n",
       "<table border=\"1\" class=\"dataframe\">\n",
       "  <thead>\n",
       "    <tr style=\"text-align: right;\">\n",
       "      <th></th>\n",
       "      <th>Title</th>\n",
       "      <th>Content</th>\n",
       "      <th>Views</th>\n",
       "      <th>Title_Length_W</th>\n",
       "      <th>Title_Length_C</th>\n",
       "      <th>Processed_Content</th>\n",
       "    </tr>\n",
       "  </thead>\n",
       "  <tbody>\n",
       "    <tr>\n",
       "      <th>0</th>\n",
       "      <td>UC Irvine Offers UC-Wide Environmental Injusti...</td>\n",
       "      <td>UC Irvine (UCI) recently announced it will ope...</td>\n",
       "      <td>616</td>\n",
       "      <td>10</td>\n",
       "      <td>79</td>\n",
       "      <td>UC Irvine ( UCI ) recently announce open anthr...</td>\n",
       "    </tr>\n",
       "    <tr>\n",
       "      <th>1</th>\n",
       "      <td>UC Santa Barbara Opens Clinic to Distribute Jo...</td>\n",
       "      <td>As COVID-19 vaccines become more widely availa...</td>\n",
       "      <td>701</td>\n",
       "      <td>13</td>\n",
       "      <td>88</td>\n",
       "      <td>covid-19 vaccine widely available UC Santa Bar...</td>\n",
       "    </tr>\n",
       "    <tr>\n",
       "      <th>2</th>\n",
       "      <td>AS Passes Bill to Reform the Honorarium of Sen...</td>\n",
       "      <td>The UC Santa Barbara (UCSB) Associated Student...</td>\n",
       "      <td>1097</td>\n",
       "      <td>11</td>\n",
       "      <td>60</td>\n",
       "      <td>UC Santa Barbara ( UCSB ) Associated Students ...</td>\n",
       "    </tr>\n",
       "    <tr>\n",
       "      <th>3</th>\n",
       "      <td>Cops Off Campus: A March to Recognize the Move...</td>\n",
       "      <td>On May 17, UC Santa Barbara’s (UCSB) Cops Off ...</td>\n",
       "      <td>748</td>\n",
       "      <td>9</td>\n",
       "      <td>50</td>\n",
       "      <td>17 UC Santa Barbara ( UCSB ) cop Campus hold a...</td>\n",
       "    </tr>\n",
       "    <tr>\n",
       "      <th>4</th>\n",
       "      <td>Wealthy Countries are Hoarding COVID-19 Vaccin...</td>\n",
       "      <td>If there is one thing to be learned from this ...</td>\n",
       "      <td>1458</td>\n",
       "      <td>12</td>\n",
       "      <td>81</td>\n",
       "      <td>thing learn pandemic year half ’ health care i...</td>\n",
       "    </tr>\n",
       "  </tbody>\n",
       "</table>\n",
       "</div>"
      ],
      "text/plain": [
       "                                               Title  \\\n",
       "0  UC Irvine Offers UC-Wide Environmental Injusti...   \n",
       "1  UC Santa Barbara Opens Clinic to Distribute Jo...   \n",
       "2  AS Passes Bill to Reform the Honorarium of Sen...   \n",
       "3  Cops Off Campus: A March to Recognize the Move...   \n",
       "4  Wealthy Countries are Hoarding COVID-19 Vaccin...   \n",
       "\n",
       "                                             Content  Views  Title_Length_W  \\\n",
       "0  UC Irvine (UCI) recently announced it will ope...    616              10   \n",
       "1  As COVID-19 vaccines become more widely availa...    701              13   \n",
       "2  The UC Santa Barbara (UCSB) Associated Student...   1097              11   \n",
       "3  On May 17, UC Santa Barbara’s (UCSB) Cops Off ...    748               9   \n",
       "4  If there is one thing to be learned from this ...   1458              12   \n",
       "\n",
       "   Title_Length_C                                  Processed_Content  \n",
       "0              79  UC Irvine ( UCI ) recently announce open anthr...  \n",
       "1              88  covid-19 vaccine widely available UC Santa Bar...  \n",
       "2              60  UC Santa Barbara ( UCSB ) Associated Students ...  \n",
       "3              50  17 UC Santa Barbara ( UCSB ) cop Campus hold a...  \n",
       "4              81  thing learn pandemic year half ’ health care i...  "
      ]
     },
     "execution_count": 34,
     "metadata": {},
     "output_type": "execute_result"
    }
   ],
   "source": [
    "df.head()"
   ]
  },
  {
   "cell_type": "markdown",
   "metadata": {},
   "source": [
    "#### Summarization & Headline Generation"
   ]
  },
  {
   "cell_type": "markdown",
   "metadata": {},
   "source": [
    "(ended up not using this, so it's mostly just exploration)"
   ]
  },
  {
   "cell_type": "code",
   "execution_count": 35,
   "metadata": {},
   "outputs": [],
   "source": [
    "nlp = spacy.load('en_core_web_md') # reload the language module (not sure why the .ents doesn't work without reloading)"
   ]
  },
  {
   "cell_type": "code",
   "execution_count": 36,
   "metadata": {},
   "outputs": [],
   "source": [
    "from spacy.lang.en.stop_words import STOP_WORDS\n",
    "from string import punctuation\n",
    "from heapq import nlargest"
   ]
  },
  {
   "cell_type": "code",
   "execution_count": 37,
   "metadata": {},
   "outputs": [],
   "source": [
    "stopwords=list(STOP_WORDS)\n",
    "punctuation=punctuation+ '\\n'"
   ]
  },
  {
   "cell_type": "code",
   "execution_count": 38,
   "metadata": {},
   "outputs": [],
   "source": [
    "def generate_summary(text):\n",
    "    doc= nlp(text)\n",
    "    tokens=[token.text for token in doc]\n",
    "    \n",
    "    word_frequencies={}\n",
    "    for word in doc:\n",
    "        if word.text.lower() not in stopwords:\n",
    "            if word.text.lower() not in punctuation:\n",
    "                if word.text not in word_frequencies.keys():\n",
    "                    word_frequencies[word.text] = 1\n",
    "                else:\n",
    "                    word_frequencies[word.text] += 1\n",
    "    max_frequency=max(word_frequencies.values())\n",
    "    for word in word_frequencies.keys():\n",
    "        word_frequencies[word]=word_frequencies[word]/max_frequency\n",
    "    sentence_tokens= [sent for sent in doc.sents]\n",
    "    sentence_scores = {}\n",
    "    for sent in sentence_tokens:\n",
    "        for word in sent:\n",
    "            if word.text.lower() in word_frequencies.keys():\n",
    "                if sent not in sentence_scores.keys():                            \n",
    "                    sentence_scores[sent]=word_frequencies[word.text.lower()]\n",
    "                else:\n",
    "                    sentence_scores[sent]+=word_frequencies[word.text.lower()]\n",
    "    select_length=int(1)\n",
    "    select_length\n",
    "    summary=nlargest(select_length, sentence_scores,key=sentence_scores.get)\n",
    "    final_summary=[word.text for word in summary]\n",
    "    final_summary\n",
    "    summary=''.join(final_summary)\n",
    "    return(summary)"
   ]
  },
  {
   "cell_type": "code",
   "execution_count": 39,
   "metadata": {},
   "outputs": [],
   "source": [
    "df['Generated_Headline'] = df.apply(lambda row: generate_summary(row.Content), axis=1) # Entities is a list of spaCy spans(tokens within)"
   ]
  },
  {
   "cell_type": "code",
   "execution_count": 40,
   "metadata": {},
   "outputs": [
    {
     "data": {
      "text/html": [
       "<div>\n",
       "<style scoped>\n",
       "    .dataframe tbody tr th:only-of-type {\n",
       "        vertical-align: middle;\n",
       "    }\n",
       "\n",
       "    .dataframe tbody tr th {\n",
       "        vertical-align: top;\n",
       "    }\n",
       "\n",
       "    .dataframe thead th {\n",
       "        text-align: right;\n",
       "    }\n",
       "</style>\n",
       "<table border=\"1\" class=\"dataframe\">\n",
       "  <thead>\n",
       "    <tr style=\"text-align: right;\">\n",
       "      <th></th>\n",
       "      <th>Title</th>\n",
       "      <th>Content</th>\n",
       "      <th>Views</th>\n",
       "      <th>Title_Length_W</th>\n",
       "      <th>Title_Length_C</th>\n",
       "      <th>Processed_Content</th>\n",
       "      <th>Generated_Headline</th>\n",
       "    </tr>\n",
       "  </thead>\n",
       "  <tbody>\n",
       "    <tr>\n",
       "      <th>0</th>\n",
       "      <td>UC Irvine Offers UC-Wide Environmental Injusti...</td>\n",
       "      <td>UC Irvine (UCI) recently announced it will ope...</td>\n",
       "      <td>616</td>\n",
       "      <td>10</td>\n",
       "      <td>79</td>\n",
       "      <td>UC Irvine ( UCI ) recently announce open anthr...</td>\n",
       "      <td>\\n\\nStudents also cover a variety of concepts ...</td>\n",
       "    </tr>\n",
       "    <tr>\n",
       "      <th>1</th>\n",
       "      <td>UC Santa Barbara Opens Clinic to Distribute Jo...</td>\n",
       "      <td>As COVID-19 vaccines become more widely availa...</td>\n",
       "      <td>701</td>\n",
       "      <td>13</td>\n",
       "      <td>88</td>\n",
       "      <td>covid-19 vaccine widely available UC Santa Bar...</td>\n",
       "      <td>They sent their mobile vaccine clinic to our f...</td>\n",
       "    </tr>\n",
       "    <tr>\n",
       "      <th>2</th>\n",
       "      <td>AS Passes Bill to Reform the Honorarium of Sen...</td>\n",
       "      <td>The UC Santa Barbara (UCSB) Associated Student...</td>\n",
       "      <td>1097</td>\n",
       "      <td>11</td>\n",
       "      <td>60</td>\n",
       "      <td>UC Santa Barbara ( UCSB ) Associated Students ...</td>\n",
       "      <td>\\n\\n\"AN HONORARIUM IS THE SALARY SENATORS\\n\\n ...</td>\n",
       "    </tr>\n",
       "    <tr>\n",
       "      <th>3</th>\n",
       "      <td>Cops Off Campus: A March to Recognize the Move...</td>\n",
       "      <td>On May 17, UC Santa Barbara’s (UCSB) Cops Off ...</td>\n",
       "      <td>748</td>\n",
       "      <td>9</td>\n",
       "      <td>50</td>\n",
       "      <td>17 UC Santa Barbara ( UCSB ) cop Campus hold a...</td>\n",
       "      <td>\\r\\n\\r\\nMany local I.V. residents joined the m...</td>\n",
       "    </tr>\n",
       "    <tr>\n",
       "      <th>4</th>\n",
       "      <td>Wealthy Countries are Hoarding COVID-19 Vaccin...</td>\n",
       "      <td>If there is one thing to be learned from this ...</td>\n",
       "      <td>1458</td>\n",
       "      <td>12</td>\n",
       "      <td>81</td>\n",
       "      <td>thing learn pandemic year half ’ health care i...</td>\n",
       "      <td>\\r\\n\\r\\nIn an interview with The Bottom Line (...</td>\n",
       "    </tr>\n",
       "  </tbody>\n",
       "</table>\n",
       "</div>"
      ],
      "text/plain": [
       "                                               Title  \\\n",
       "0  UC Irvine Offers UC-Wide Environmental Injusti...   \n",
       "1  UC Santa Barbara Opens Clinic to Distribute Jo...   \n",
       "2  AS Passes Bill to Reform the Honorarium of Sen...   \n",
       "3  Cops Off Campus: A March to Recognize the Move...   \n",
       "4  Wealthy Countries are Hoarding COVID-19 Vaccin...   \n",
       "\n",
       "                                             Content  Views  Title_Length_W  \\\n",
       "0  UC Irvine (UCI) recently announced it will ope...    616              10   \n",
       "1  As COVID-19 vaccines become more widely availa...    701              13   \n",
       "2  The UC Santa Barbara (UCSB) Associated Student...   1097              11   \n",
       "3  On May 17, UC Santa Barbara’s (UCSB) Cops Off ...    748               9   \n",
       "4  If there is one thing to be learned from this ...   1458              12   \n",
       "\n",
       "   Title_Length_C                                  Processed_Content  \\\n",
       "0              79  UC Irvine ( UCI ) recently announce open anthr...   \n",
       "1              88  covid-19 vaccine widely available UC Santa Bar...   \n",
       "2              60  UC Santa Barbara ( UCSB ) Associated Students ...   \n",
       "3              50  17 UC Santa Barbara ( UCSB ) cop Campus hold a...   \n",
       "4              81  thing learn pandemic year half ’ health care i...   \n",
       "\n",
       "                                  Generated_Headline  \n",
       "0  \\n\\nStudents also cover a variety of concepts ...  \n",
       "1  They sent their mobile vaccine clinic to our f...  \n",
       "2  \\n\\n\"AN HONORARIUM IS THE SALARY SENATORS\\n\\n ...  \n",
       "3  \\r\\n\\r\\nMany local I.V. residents joined the m...  \n",
       "4  \\r\\n\\r\\nIn an interview with The Bottom Line (...  "
      ]
     },
     "execution_count": 40,
     "metadata": {},
     "output_type": "execute_result"
    }
   ],
   "source": [
    "df.head()"
   ]
  },
  {
   "cell_type": "markdown",
   "metadata": {},
   "source": [
    "#### Named Entity Recognition"
   ]
  },
  {
   "cell_type": "code",
   "execution_count": 41,
   "metadata": {},
   "outputs": [],
   "source": [
    "def get_ents(text):  \n",
    "    return list((nlp(text)).ents)"
   ]
  },
  {
   "cell_type": "code",
   "execution_count": 42,
   "metadata": {},
   "outputs": [],
   "source": [
    "df['Entities'] = df.apply(lambda row: get_ents(row.Processed_Content), axis=1) # Entities is a list of spaCy spans(tokens within)\n",
    "df['Entities'] = df.apply(lambda row: [span.text for span in row.Entities], axis=1)"
   ]
  },
  {
   "cell_type": "code",
   "execution_count": 43,
   "metadata": {},
   "outputs": [
    {
     "data": {
      "text/html": [
       "<div>\n",
       "<style scoped>\n",
       "    .dataframe tbody tr th:only-of-type {\n",
       "        vertical-align: middle;\n",
       "    }\n",
       "\n",
       "    .dataframe tbody tr th {\n",
       "        vertical-align: top;\n",
       "    }\n",
       "\n",
       "    .dataframe thead th {\n",
       "        text-align: right;\n",
       "    }\n",
       "</style>\n",
       "<table border=\"1\" class=\"dataframe\">\n",
       "  <thead>\n",
       "    <tr style=\"text-align: right;\">\n",
       "      <th></th>\n",
       "      <th>Title</th>\n",
       "      <th>Content</th>\n",
       "      <th>Views</th>\n",
       "      <th>Title_Length_W</th>\n",
       "      <th>Title_Length_C</th>\n",
       "      <th>Processed_Content</th>\n",
       "      <th>Generated_Headline</th>\n",
       "      <th>Entities</th>\n",
       "    </tr>\n",
       "  </thead>\n",
       "  <tbody>\n",
       "    <tr>\n",
       "      <th>0</th>\n",
       "      <td>UC Irvine Offers UC-Wide Environmental Injusti...</td>\n",
       "      <td>UC Irvine (UCI) recently announced it will ope...</td>\n",
       "      <td>616</td>\n",
       "      <td>10</td>\n",
       "      <td>79</td>\n",
       "      <td>UC Irvine ( UCI ) recently announce open anthr...</td>\n",
       "      <td>\\n\\nStudents also cover a variety of concepts ...</td>\n",
       "      <td>[UC Irvine, UCI, Environmental Injustice UC, s...</td>\n",
       "    </tr>\n",
       "    <tr>\n",
       "      <th>1</th>\n",
       "      <td>UC Santa Barbara Opens Clinic to Distribute Jo...</td>\n",
       "      <td>As COVID-19 vaccines become more widely availa...</td>\n",
       "      <td>701</td>\n",
       "      <td>13</td>\n",
       "      <td>88</td>\n",
       "      <td>covid-19 vaccine widely available UC Santa Bar...</td>\n",
       "      <td>They sent their mobile vaccine clinic to our f...</td>\n",
       "      <td>[covid-19, UC Santa Barbara, UCSB, Santa Barba...</td>\n",
       "    </tr>\n",
       "    <tr>\n",
       "      <th>2</th>\n",
       "      <td>AS Passes Bill to Reform the Honorarium of Sen...</td>\n",
       "      <td>The UC Santa Barbara (UCSB) Associated Student...</td>\n",
       "      <td>1097</td>\n",
       "      <td>11</td>\n",
       "      <td>60</td>\n",
       "      <td>UC Santa Barbara ( UCSB ) Associated Students ...</td>\n",
       "      <td>\\n\\n\"AN HONORARIUM IS THE SALARY SENATORS\\n\\n ...</td>\n",
       "      <td>[UC Santa Barbara, UCSB, Senate, Esmeralda Qui...</td>\n",
       "    </tr>\n",
       "    <tr>\n",
       "      <th>3</th>\n",
       "      <td>Cops Off Campus: A March to Recognize the Move...</td>\n",
       "      <td>On May 17, UC Santa Barbara’s (UCSB) Cops Off ...</td>\n",
       "      <td>748</td>\n",
       "      <td>9</td>\n",
       "      <td>50</td>\n",
       "      <td>17 UC Santa Barbara ( UCSB ) cop Campus hold a...</td>\n",
       "      <td>\\r\\n\\r\\nMany local I.V. residents joined the m...</td>\n",
       "      <td>[17, UC, Santa Barbara, UCSB, UCSB, Black Brow...</td>\n",
       "    </tr>\n",
       "    <tr>\n",
       "      <th>4</th>\n",
       "      <td>Wealthy Countries are Hoarding COVID-19 Vaccin...</td>\n",
       "      <td>If there is one thing to be learned from this ...</td>\n",
       "      <td>1458</td>\n",
       "      <td>12</td>\n",
       "      <td>81</td>\n",
       "      <td>thing learn pandemic year half ’ health care i...</td>\n",
       "      <td>\\r\\n\\r\\nIn an interview with The Bottom Line (...</td>\n",
       "      <td>[covid-19, 80 percent, 0.2 percent, 46.04 perc...</td>\n",
       "    </tr>\n",
       "  </tbody>\n",
       "</table>\n",
       "</div>"
      ],
      "text/plain": [
       "                                               Title  \\\n",
       "0  UC Irvine Offers UC-Wide Environmental Injusti...   \n",
       "1  UC Santa Barbara Opens Clinic to Distribute Jo...   \n",
       "2  AS Passes Bill to Reform the Honorarium of Sen...   \n",
       "3  Cops Off Campus: A March to Recognize the Move...   \n",
       "4  Wealthy Countries are Hoarding COVID-19 Vaccin...   \n",
       "\n",
       "                                             Content  Views  Title_Length_W  \\\n",
       "0  UC Irvine (UCI) recently announced it will ope...    616              10   \n",
       "1  As COVID-19 vaccines become more widely availa...    701              13   \n",
       "2  The UC Santa Barbara (UCSB) Associated Student...   1097              11   \n",
       "3  On May 17, UC Santa Barbara’s (UCSB) Cops Off ...    748               9   \n",
       "4  If there is one thing to be learned from this ...   1458              12   \n",
       "\n",
       "   Title_Length_C                                  Processed_Content  \\\n",
       "0              79  UC Irvine ( UCI ) recently announce open anthr...   \n",
       "1              88  covid-19 vaccine widely available UC Santa Bar...   \n",
       "2              60  UC Santa Barbara ( UCSB ) Associated Students ...   \n",
       "3              50  17 UC Santa Barbara ( UCSB ) cop Campus hold a...   \n",
       "4              81  thing learn pandemic year half ’ health care i...   \n",
       "\n",
       "                                  Generated_Headline  \\\n",
       "0  \\n\\nStudents also cover a variety of concepts ...   \n",
       "1  They sent their mobile vaccine clinic to our f...   \n",
       "2  \\n\\n\"AN HONORARIUM IS THE SALARY SENATORS\\n\\n ...   \n",
       "3  \\r\\n\\r\\nMany local I.V. residents joined the m...   \n",
       "4  \\r\\n\\r\\nIn an interview with The Bottom Line (...   \n",
       "\n",
       "                                            Entities  \n",
       "0  [UC Irvine, UCI, Environmental Injustice UC, s...  \n",
       "1  [covid-19, UC Santa Barbara, UCSB, Santa Barba...  \n",
       "2  [UC Santa Barbara, UCSB, Senate, Esmeralda Qui...  \n",
       "3  [17, UC, Santa Barbara, UCSB, UCSB, Black Brow...  \n",
       "4  [covid-19, 80 percent, 0.2 percent, 46.04 perc...  "
      ]
     },
     "execution_count": 43,
     "metadata": {},
     "output_type": "execute_result"
    }
   ],
   "source": [
    "df.head()"
   ]
  },
  {
   "cell_type": "markdown",
   "metadata": {},
   "source": [
    "#### Comparing Number of Keyword (Named Entity) Matches in Title"
   ]
  },
  {
   "cell_type": "markdown",
   "metadata": {},
   "source": [
    "- Convert the list of entities (which are spaCy spans) to a simple set\n",
    "- Check for the number of shared words\n",
    "- For later considerations:\n",
    "    - Set frequency of the items of the list as a count\n",
    "    - Add up the counts for the entities so that words that occur more often have a higher weight"
   ]
  },
  {
   "cell_type": "code",
   "execution_count": 44,
   "metadata": {},
   "outputs": [],
   "source": [
    "import re"
   ]
  },
  {
   "cell_type": "code",
   "execution_count": 45,
   "metadata": {},
   "outputs": [],
   "source": [
    "def get_shared_entities(title, entities):\n",
    "    shared_entities = []\n",
    "    title = spacy_process(title).lower()\n",
    "    entities_set = set(entities)\n",
    "    for entity in entities_set:\n",
    "        try:\n",
    "            word_re = re.compile(entity.lower())\n",
    "            if word_re.search(title):\n",
    "                shared_entities.append(entity)\n",
    "        except:\n",
    "            return (shared_entities)\n",
    "    return (shared_entities)"
   ]
  },
  {
   "cell_type": "code",
   "execution_count": 46,
   "metadata": {},
   "outputs": [
    {
     "data": {
      "text/plain": [
       "['UC Irvine', 'summer', 'UC']"
      ]
     },
     "execution_count": 46,
     "metadata": {},
     "output_type": "execute_result"
    }
   ],
   "source": [
    "get_shared_entities(df.Title[0], df.Entities[0])"
   ]
  },
  {
   "cell_type": "code",
   "execution_count": 47,
   "metadata": {},
   "outputs": [],
   "source": [
    "df['Entity_Count'] = df.apply(lambda row: len(get_shared_entities(row['Title'], row['Entities'])), axis=1)"
   ]
  },
  {
   "cell_type": "code",
   "execution_count": 48,
   "metadata": {},
   "outputs": [
    {
     "data": {
      "text/html": [
       "<div>\n",
       "<style scoped>\n",
       "    .dataframe tbody tr th:only-of-type {\n",
       "        vertical-align: middle;\n",
       "    }\n",
       "\n",
       "    .dataframe tbody tr th {\n",
       "        vertical-align: top;\n",
       "    }\n",
       "\n",
       "    .dataframe thead th {\n",
       "        text-align: right;\n",
       "    }\n",
       "</style>\n",
       "<table border=\"1\" class=\"dataframe\">\n",
       "  <thead>\n",
       "    <tr style=\"text-align: right;\">\n",
       "      <th></th>\n",
       "      <th>Title</th>\n",
       "      <th>Content</th>\n",
       "      <th>Views</th>\n",
       "      <th>Title_Length_W</th>\n",
       "      <th>Title_Length_C</th>\n",
       "      <th>Processed_Content</th>\n",
       "      <th>Generated_Headline</th>\n",
       "      <th>Entities</th>\n",
       "      <th>Entity_Count</th>\n",
       "    </tr>\n",
       "  </thead>\n",
       "  <tbody>\n",
       "    <tr>\n",
       "      <th>0</th>\n",
       "      <td>UC Irvine Offers UC-Wide Environmental Injusti...</td>\n",
       "      <td>UC Irvine (UCI) recently announced it will ope...</td>\n",
       "      <td>616</td>\n",
       "      <td>10</td>\n",
       "      <td>79</td>\n",
       "      <td>UC Irvine ( UCI ) recently announce open anthr...</td>\n",
       "      <td>\\n\\nStudents also cover a variety of concepts ...</td>\n",
       "      <td>[UC Irvine, UCI, Environmental Injustice UC, s...</td>\n",
       "      <td>3</td>\n",
       "    </tr>\n",
       "    <tr>\n",
       "      <th>1</th>\n",
       "      <td>UC Santa Barbara Opens Clinic to Distribute Jo...</td>\n",
       "      <td>As COVID-19 vaccines become more widely availa...</td>\n",
       "      <td>701</td>\n",
       "      <td>13</td>\n",
       "      <td>88</td>\n",
       "      <td>covid-19 vaccine widely available UC Santa Bar...</td>\n",
       "      <td>They sent their mobile vaccine clinic to our f...</td>\n",
       "      <td>[covid-19, UC Santa Barbara, UCSB, Santa Barba...</td>\n",
       "      <td>5</td>\n",
       "    </tr>\n",
       "    <tr>\n",
       "      <th>2</th>\n",
       "      <td>AS Passes Bill to Reform the Honorarium of Sen...</td>\n",
       "      <td>The UC Santa Barbara (UCSB) Associated Student...</td>\n",
       "      <td>1097</td>\n",
       "      <td>11</td>\n",
       "      <td>60</td>\n",
       "      <td>UC Santa Barbara ( UCSB ) Associated Students ...</td>\n",
       "      <td>\\n\\n\"AN HONORARIUM IS THE SALARY SENATORS\\n\\n ...</td>\n",
       "      <td>[UC Santa Barbara, UCSB, Senate, Esmeralda Qui...</td>\n",
       "      <td>1</td>\n",
       "    </tr>\n",
       "    <tr>\n",
       "      <th>3</th>\n",
       "      <td>Cops Off Campus: A March to Recognize the Move...</td>\n",
       "      <td>On May 17, UC Santa Barbara’s (UCSB) Cops Off ...</td>\n",
       "      <td>748</td>\n",
       "      <td>9</td>\n",
       "      <td>50</td>\n",
       "      <td>17 UC Santa Barbara ( UCSB ) cop Campus hold a...</td>\n",
       "      <td>\\r\\n\\r\\nMany local I.V. residents joined the m...</td>\n",
       "      <td>[17, UC, Santa Barbara, UCSB, UCSB, Black Brow...</td>\n",
       "      <td>0</td>\n",
       "    </tr>\n",
       "    <tr>\n",
       "      <th>4</th>\n",
       "      <td>Wealthy Countries are Hoarding COVID-19 Vaccin...</td>\n",
       "      <td>If there is one thing to be learned from this ...</td>\n",
       "      <td>1458</td>\n",
       "      <td>12</td>\n",
       "      <td>81</td>\n",
       "      <td>thing learn pandemic year half ’ health care i...</td>\n",
       "      <td>\\r\\n\\r\\nIn an interview with The Bottom Line (...</td>\n",
       "      <td>[covid-19, 80 percent, 0.2 percent, 46.04 perc...</td>\n",
       "      <td>2</td>\n",
       "    </tr>\n",
       "  </tbody>\n",
       "</table>\n",
       "</div>"
      ],
      "text/plain": [
       "                                               Title  \\\n",
       "0  UC Irvine Offers UC-Wide Environmental Injusti...   \n",
       "1  UC Santa Barbara Opens Clinic to Distribute Jo...   \n",
       "2  AS Passes Bill to Reform the Honorarium of Sen...   \n",
       "3  Cops Off Campus: A March to Recognize the Move...   \n",
       "4  Wealthy Countries are Hoarding COVID-19 Vaccin...   \n",
       "\n",
       "                                             Content  Views  Title_Length_W  \\\n",
       "0  UC Irvine (UCI) recently announced it will ope...    616              10   \n",
       "1  As COVID-19 vaccines become more widely availa...    701              13   \n",
       "2  The UC Santa Barbara (UCSB) Associated Student...   1097              11   \n",
       "3  On May 17, UC Santa Barbara’s (UCSB) Cops Off ...    748               9   \n",
       "4  If there is one thing to be learned from this ...   1458              12   \n",
       "\n",
       "   Title_Length_C                                  Processed_Content  \\\n",
       "0              79  UC Irvine ( UCI ) recently announce open anthr...   \n",
       "1              88  covid-19 vaccine widely available UC Santa Bar...   \n",
       "2              60  UC Santa Barbara ( UCSB ) Associated Students ...   \n",
       "3              50  17 UC Santa Barbara ( UCSB ) cop Campus hold a...   \n",
       "4              81  thing learn pandemic year half ’ health care i...   \n",
       "\n",
       "                                  Generated_Headline  \\\n",
       "0  \\n\\nStudents also cover a variety of concepts ...   \n",
       "1  They sent their mobile vaccine clinic to our f...   \n",
       "2  \\n\\n\"AN HONORARIUM IS THE SALARY SENATORS\\n\\n ...   \n",
       "3  \\r\\n\\r\\nMany local I.V. residents joined the m...   \n",
       "4  \\r\\n\\r\\nIn an interview with The Bottom Line (...   \n",
       "\n",
       "                                            Entities  Entity_Count  \n",
       "0  [UC Irvine, UCI, Environmental Injustice UC, s...             3  \n",
       "1  [covid-19, UC Santa Barbara, UCSB, Santa Barba...             5  \n",
       "2  [UC Santa Barbara, UCSB, Senate, Esmeralda Qui...             1  \n",
       "3  [17, UC, Santa Barbara, UCSB, UCSB, Black Brow...             0  \n",
       "4  [covid-19, 80 percent, 0.2 percent, 46.04 perc...             2  "
      ]
     },
     "execution_count": 48,
     "metadata": {},
     "output_type": "execute_result"
    }
   ],
   "source": [
    "df.head()"
   ]
  },
  {
   "cell_type": "markdown",
   "metadata": {},
   "source": [
    "#### Comparing Number of Weighted Keyword (Named Entity) Matches in Title"
   ]
  },
  {
   "cell_type": "code",
   "execution_count": 49,
   "metadata": {},
   "outputs": [],
   "source": [
    "from collections import Counter"
   ]
  },
  {
   "cell_type": "code",
   "execution_count": 50,
   "metadata": {},
   "outputs": [],
   "source": [
    "def get_weighted_shared_entities_count(title, entities):\n",
    "    count = 0\n",
    "    entities_counter = Counter(entities)\n",
    "    shared_entities = get_shared_entities(title, entities)\n",
    "    \n",
    "    for entity in shared_entities:\n",
    "        count += entities_counter[entity]\n",
    "    \n",
    "    return count"
   ]
  },
  {
   "cell_type": "code",
   "execution_count": 51,
   "metadata": {},
   "outputs": [],
   "source": [
    "df['Entity_Weighted_Count'] = df.apply(lambda row: get_weighted_shared_entities_count(row['Title'], row['Entities']), axis=1)"
   ]
  },
  {
   "cell_type": "code",
   "execution_count": 52,
   "metadata": {},
   "outputs": [
    {
     "data": {
      "text/html": [
       "<div>\n",
       "<style scoped>\n",
       "    .dataframe tbody tr th:only-of-type {\n",
       "        vertical-align: middle;\n",
       "    }\n",
       "\n",
       "    .dataframe tbody tr th {\n",
       "        vertical-align: top;\n",
       "    }\n",
       "\n",
       "    .dataframe thead th {\n",
       "        text-align: right;\n",
       "    }\n",
       "</style>\n",
       "<table border=\"1\" class=\"dataframe\">\n",
       "  <thead>\n",
       "    <tr style=\"text-align: right;\">\n",
       "      <th></th>\n",
       "      <th>Title</th>\n",
       "      <th>Content</th>\n",
       "      <th>Views</th>\n",
       "      <th>Title_Length_W</th>\n",
       "      <th>Title_Length_C</th>\n",
       "      <th>Processed_Content</th>\n",
       "      <th>Generated_Headline</th>\n",
       "      <th>Entities</th>\n",
       "      <th>Entity_Count</th>\n",
       "      <th>Entity_Weighted_Count</th>\n",
       "    </tr>\n",
       "  </thead>\n",
       "  <tbody>\n",
       "    <tr>\n",
       "      <th>0</th>\n",
       "      <td>UC Irvine Offers UC-Wide Environmental Injusti...</td>\n",
       "      <td>UC Irvine (UCI) recently announced it will ope...</td>\n",
       "      <td>616</td>\n",
       "      <td>10</td>\n",
       "      <td>79</td>\n",
       "      <td>UC Irvine ( UCI ) recently announce open anthr...</td>\n",
       "      <td>\\n\\nStudents also cover a variety of concepts ...</td>\n",
       "      <td>[UC Irvine, UCI, Environmental Injustice UC, s...</td>\n",
       "      <td>3</td>\n",
       "      <td>6</td>\n",
       "    </tr>\n",
       "    <tr>\n",
       "      <th>1</th>\n",
       "      <td>UC Santa Barbara Opens Clinic to Distribute Jo...</td>\n",
       "      <td>As COVID-19 vaccines become more widely availa...</td>\n",
       "      <td>701</td>\n",
       "      <td>13</td>\n",
       "      <td>88</td>\n",
       "      <td>covid-19 vaccine widely available UC Santa Bar...</td>\n",
       "      <td>They sent their mobile vaccine clinic to our f...</td>\n",
       "      <td>[covid-19, UC Santa Barbara, UCSB, Santa Barba...</td>\n",
       "      <td>5</td>\n",
       "      <td>9</td>\n",
       "    </tr>\n",
       "    <tr>\n",
       "      <th>2</th>\n",
       "      <td>AS Passes Bill to Reform the Honorarium of Sen...</td>\n",
       "      <td>The UC Santa Barbara (UCSB) Associated Student...</td>\n",
       "      <td>1097</td>\n",
       "      <td>11</td>\n",
       "      <td>60</td>\n",
       "      <td>UC Santa Barbara ( UCSB ) Associated Students ...</td>\n",
       "      <td>\\n\\n\"AN HONORARIUM IS THE SALARY SENATORS\\n\\n ...</td>\n",
       "      <td>[UC Santa Barbara, UCSB, Senate, Esmeralda Qui...</td>\n",
       "      <td>1</td>\n",
       "      <td>3</td>\n",
       "    </tr>\n",
       "    <tr>\n",
       "      <th>3</th>\n",
       "      <td>Cops Off Campus: A March to Recognize the Move...</td>\n",
       "      <td>On May 17, UC Santa Barbara’s (UCSB) Cops Off ...</td>\n",
       "      <td>748</td>\n",
       "      <td>9</td>\n",
       "      <td>50</td>\n",
       "      <td>17 UC Santa Barbara ( UCSB ) cop Campus hold a...</td>\n",
       "      <td>\\r\\n\\r\\nMany local I.V. residents joined the m...</td>\n",
       "      <td>[17, UC, Santa Barbara, UCSB, UCSB, Black Brow...</td>\n",
       "      <td>0</td>\n",
       "      <td>0</td>\n",
       "    </tr>\n",
       "    <tr>\n",
       "      <th>4</th>\n",
       "      <td>Wealthy Countries are Hoarding COVID-19 Vaccin...</td>\n",
       "      <td>If there is one thing to be learned from this ...</td>\n",
       "      <td>1458</td>\n",
       "      <td>12</td>\n",
       "      <td>81</td>\n",
       "      <td>thing learn pandemic year half ’ health care i...</td>\n",
       "      <td>\\r\\n\\r\\nIn an interview with The Bottom Line (...</td>\n",
       "      <td>[covid-19, 80 percent, 0.2 percent, 46.04 perc...</td>\n",
       "      <td>2</td>\n",
       "      <td>4</td>\n",
       "    </tr>\n",
       "  </tbody>\n",
       "</table>\n",
       "</div>"
      ],
      "text/plain": [
       "                                               Title  \\\n",
       "0  UC Irvine Offers UC-Wide Environmental Injusti...   \n",
       "1  UC Santa Barbara Opens Clinic to Distribute Jo...   \n",
       "2  AS Passes Bill to Reform the Honorarium of Sen...   \n",
       "3  Cops Off Campus: A March to Recognize the Move...   \n",
       "4  Wealthy Countries are Hoarding COVID-19 Vaccin...   \n",
       "\n",
       "                                             Content  Views  Title_Length_W  \\\n",
       "0  UC Irvine (UCI) recently announced it will ope...    616              10   \n",
       "1  As COVID-19 vaccines become more widely availa...    701              13   \n",
       "2  The UC Santa Barbara (UCSB) Associated Student...   1097              11   \n",
       "3  On May 17, UC Santa Barbara’s (UCSB) Cops Off ...    748               9   \n",
       "4  If there is one thing to be learned from this ...   1458              12   \n",
       "\n",
       "   Title_Length_C                                  Processed_Content  \\\n",
       "0              79  UC Irvine ( UCI ) recently announce open anthr...   \n",
       "1              88  covid-19 vaccine widely available UC Santa Bar...   \n",
       "2              60  UC Santa Barbara ( UCSB ) Associated Students ...   \n",
       "3              50  17 UC Santa Barbara ( UCSB ) cop Campus hold a...   \n",
       "4              81  thing learn pandemic year half ’ health care i...   \n",
       "\n",
       "                                  Generated_Headline  \\\n",
       "0  \\n\\nStudents also cover a variety of concepts ...   \n",
       "1  They sent their mobile vaccine clinic to our f...   \n",
       "2  \\n\\n\"AN HONORARIUM IS THE SALARY SENATORS\\n\\n ...   \n",
       "3  \\r\\n\\r\\nMany local I.V. residents joined the m...   \n",
       "4  \\r\\n\\r\\nIn an interview with The Bottom Line (...   \n",
       "\n",
       "                                            Entities  Entity_Count  \\\n",
       "0  [UC Irvine, UCI, Environmental Injustice UC, s...             3   \n",
       "1  [covid-19, UC Santa Barbara, UCSB, Santa Barba...             5   \n",
       "2  [UC Santa Barbara, UCSB, Senate, Esmeralda Qui...             1   \n",
       "3  [17, UC, Santa Barbara, UCSB, UCSB, Black Brow...             0   \n",
       "4  [covid-19, 80 percent, 0.2 percent, 46.04 perc...             2   \n",
       "\n",
       "   Entity_Weighted_Count  \n",
       "0                      6  \n",
       "1                      9  \n",
       "2                      3  \n",
       "3                      0  \n",
       "4                      4  "
      ]
     },
     "execution_count": 52,
     "metadata": {},
     "output_type": "execute_result"
    }
   ],
   "source": [
    "df.head()"
   ]
  },
  {
   "cell_type": "markdown",
   "metadata": {},
   "source": [
    "## Results"
   ]
  },
  {
   "cell_type": "markdown",
   "metadata": {},
   "source": [
    "### Searching for correlation via linear regression"
   ]
  },
  {
   "cell_type": "markdown",
   "metadata": {},
   "source": [
    "#### Number of Keyword Matches and Page Views"
   ]
  },
  {
   "cell_type": "code",
   "execution_count": 53,
   "metadata": {},
   "outputs": [
    {
     "data": {
      "text/html": [
       "\n",
       "<div id=\"altair-viz-459cbf2f017d4602b8797a286774f695\"></div>\n",
       "<script type=\"text/javascript\">\n",
       "  var VEGA_DEBUG = (typeof VEGA_DEBUG == \"undefined\") ? {} : VEGA_DEBUG;\n",
       "  (function(spec, embedOpt){\n",
       "    let outputDiv = document.currentScript.previousElementSibling;\n",
       "    if (outputDiv.id !== \"altair-viz-459cbf2f017d4602b8797a286774f695\") {\n",
       "      outputDiv = document.getElementById(\"altair-viz-459cbf2f017d4602b8797a286774f695\");\n",
       "    }\n",
       "    const paths = {\n",
       "      \"vega\": \"https://cdn.jsdelivr.net/npm//vega@5?noext\",\n",
       "      \"vega-lib\": \"https://cdn.jsdelivr.net/npm//vega-lib?noext\",\n",
       "      \"vega-lite\": \"https://cdn.jsdelivr.net/npm//vega-lite@4.17.0?noext\",\n",
       "      \"vega-embed\": \"https://cdn.jsdelivr.net/npm//vega-embed@6?noext\",\n",
       "    };\n",
       "\n",
       "    function maybeLoadScript(lib, version) {\n",
       "      var key = `${lib.replace(\"-\", \"\")}_version`;\n",
       "      return (VEGA_DEBUG[key] == version) ?\n",
       "        Promise.resolve(paths[lib]) :\n",
       "        new Promise(function(resolve, reject) {\n",
       "          var s = document.createElement('script');\n",
       "          document.getElementsByTagName(\"head\")[0].appendChild(s);\n",
       "          s.async = true;\n",
       "          s.onload = () => {\n",
       "            VEGA_DEBUG[key] = version;\n",
       "            return resolve(paths[lib]);\n",
       "          };\n",
       "          s.onerror = () => reject(`Error loading script: ${paths[lib]}`);\n",
       "          s.src = paths[lib];\n",
       "        });\n",
       "    }\n",
       "\n",
       "    function showError(err) {\n",
       "      outputDiv.innerHTML = `<div class=\"error\" style=\"color:red;\">${err}</div>`;\n",
       "      throw err;\n",
       "    }\n",
       "\n",
       "    function displayChart(vegaEmbed) {\n",
       "      vegaEmbed(outputDiv, spec, embedOpt)\n",
       "        .catch(err => showError(`Javascript Error: ${err.message}<br>This usually means there's a typo in your chart specification. See the javascript console for the full traceback.`));\n",
       "    }\n",
       "\n",
       "    if(typeof define === \"function\" && define.amd) {\n",
       "      requirejs.config({paths});\n",
       "      require([\"vega-embed\"], displayChart, err => showError(`Error loading script: ${err.message}`));\n",
       "    } else {\n",
       "      maybeLoadScript(\"vega\", \"5\")\n",
       "        .then(() => maybeLoadScript(\"vega-lite\", \"4.17.0\"))\n",
       "        .then(() => maybeLoadScript(\"vega-embed\", \"6\"))\n",
       "        .catch(showError)\n",
       "        .then(() => displayChart(vegaEmbed));\n",
       "    }\n",
       "  })({\"config\": {\"view\": {\"continuousWidth\": 400, \"continuousHeight\": 300}}, \"layer\": [{\"mark\": \"circle\", \"encoding\": {\"x\": {\"field\": \"Entity_Count\", \"scale\": {\"zero\": false}, \"title\": \"Number of Shared Entities in Headline\", \"type\": \"quantitative\"}, \"y\": {\"field\": \"Views\", \"scale\": {\"zero\": false}, \"title\": \"Article Page Views\", \"type\": \"quantitative\"}}}, {\"mark\": \"line\", \"encoding\": {\"x\": {\"field\": \"Entity_Count\", \"scale\": {\"zero\": false}, \"title\": \"Number of Shared Entities in Headline\", \"type\": \"quantitative\"}, \"y\": {\"field\": \"Views\", \"scale\": {\"zero\": false}, \"title\": \"Article Page Views\", \"type\": \"quantitative\"}}, \"transform\": [{\"on\": \"Entity_Count\", \"regression\": \"Views\"}]}], \"data\": {\"name\": \"data-4c51e55e47016145979b27e0cd7f921e\"}, \"$schema\": \"https://vega.github.io/schema/vega-lite/v4.17.0.json\", \"datasets\": {\"data-4c51e55e47016145979b27e0cd7f921e\": [{\"Entity_Count\": 3, \"Views\": 616}, {\"Entity_Count\": 5, \"Views\": 701}, {\"Entity_Count\": 1, \"Views\": 1097}, {\"Entity_Count\": 0, \"Views\": 748}, {\"Entity_Count\": 2, \"Views\": 1458}, {\"Entity_Count\": 5, \"Views\": 1267}, {\"Entity_Count\": 3, \"Views\": 1276}, {\"Entity_Count\": 2, \"Views\": 795}, {\"Entity_Count\": 0, \"Views\": 769}, {\"Entity_Count\": 1, \"Views\": 822}, {\"Entity_Count\": 2, \"Views\": 771}, {\"Entity_Count\": 1, \"Views\": 864}, {\"Entity_Count\": 0, \"Views\": 742}, {\"Entity_Count\": 3, \"Views\": 823}, {\"Entity_Count\": 0, \"Views\": 972}, {\"Entity_Count\": 2, \"Views\": 1024}, {\"Entity_Count\": 1, \"Views\": 1173}, {\"Entity_Count\": 2, \"Views\": 768}, {\"Entity_Count\": 2, \"Views\": 1191}, {\"Entity_Count\": 2, \"Views\": 610}, {\"Entity_Count\": 1, \"Views\": 1413}, {\"Entity_Count\": 5, \"Views\": 2973}, {\"Entity_Count\": 0, \"Views\": 2171}, {\"Entity_Count\": 0, \"Views\": 835}, {\"Entity_Count\": 0, \"Views\": 1046}, {\"Entity_Count\": 1, \"Views\": 1797}, {\"Entity_Count\": 2, \"Views\": 1742}, {\"Entity_Count\": 0, \"Views\": 1384}, {\"Entity_Count\": 6, \"Views\": 2586}, {\"Entity_Count\": 1, \"Views\": 2511}, {\"Entity_Count\": 1, \"Views\": 1621}, {\"Entity_Count\": 0, \"Views\": 1756}, {\"Entity_Count\": 2, \"Views\": 1411}, {\"Entity_Count\": 1, \"Views\": 1238}, {\"Entity_Count\": 0, \"Views\": 997}, {\"Entity_Count\": 1, \"Views\": 654}, {\"Entity_Count\": 2, \"Views\": 1567}, {\"Entity_Count\": 0, \"Views\": 1177}, {\"Entity_Count\": 1, \"Views\": 4014}, {\"Entity_Count\": 0, \"Views\": 2800}, {\"Entity_Count\": 1, \"Views\": 2141}, {\"Entity_Count\": 3, \"Views\": 2322}, {\"Entity_Count\": 0, \"Views\": 1255}, {\"Entity_Count\": 1, \"Views\": 1541}, {\"Entity_Count\": 2, \"Views\": 1640}, {\"Entity_Count\": 0, \"Views\": 1301}, {\"Entity_Count\": 1, \"Views\": 3270}, {\"Entity_Count\": 1, \"Views\": 902}, {\"Entity_Count\": 3, \"Views\": 2049}, {\"Entity_Count\": 1, \"Views\": 789}, {\"Entity_Count\": 2, \"Views\": 1421}, {\"Entity_Count\": 3, \"Views\": 1040}, {\"Entity_Count\": 3, \"Views\": 1415}, {\"Entity_Count\": 4, \"Views\": 1750}, {\"Entity_Count\": 2, \"Views\": 1236}, {\"Entity_Count\": 1, \"Views\": 1165}, {\"Entity_Count\": 4, \"Views\": 1267}, {\"Entity_Count\": 3, \"Views\": 1560}, {\"Entity_Count\": 2, \"Views\": 1050}, {\"Entity_Count\": 1, \"Views\": 1480}, {\"Entity_Count\": 0, \"Views\": 691}, {\"Entity_Count\": 1, \"Views\": 1623}, {\"Entity_Count\": 1, \"Views\": 1535}, {\"Entity_Count\": 3, \"Views\": 3773}]}}, {\"mode\": \"vega-lite\"});\n",
       "</script>"
      ],
      "text/plain": [
       "alt.LayerChart(...)"
      ]
     },
     "execution_count": 53,
     "metadata": {},
     "output_type": "execute_result"
    }
   ],
   "source": [
    "scatter_entcountviews = alt.Chart(df[['Entity_Count', 'Views']]).mark_circle().encode(\n",
    "    y = alt.Y('Views', title = 'Article Page Views', scale = alt.Scale(zero = False)),\n",
    "    x = alt.X('Entity_Count', title = 'Number of Shared Entities in Headline', scale = alt.Scale(zero = False))\n",
    ")\n",
    "scatter_entcountviews + scatter_entcountviews.transform_regression('Entity_Count', 'Views').mark_line()"
   ]
  },
  {
   "cell_type": "markdown",
   "metadata": {},
   "source": [
    "Pearson correlation coefficient: 0.13352267, meaning very low positive correlation"
   ]
  },
  {
   "cell_type": "code",
   "execution_count": 54,
   "metadata": {},
   "outputs": [
    {
     "data": {
      "text/plain": [
       "array([[1.        , 0.17530516],\n",
       "       [0.17530516, 1.        ]])"
      ]
     },
     "execution_count": 54,
     "metadata": {},
     "output_type": "execute_result"
    }
   ],
   "source": [
    "np.corrcoef(df.Entity_Count, df.Views)"
   ]
  },
  {
   "cell_type": "markdown",
   "metadata": {},
   "source": [
    "### Number of Weighted Keyword Matches and Page Views"
   ]
  },
  {
   "cell_type": "code",
   "execution_count": 55,
   "metadata": {},
   "outputs": [
    {
     "data": {
      "text/html": [
       "\n",
       "<div id=\"altair-viz-a0a2563933de45a3ae7e1768de949e9d\"></div>\n",
       "<script type=\"text/javascript\">\n",
       "  var VEGA_DEBUG = (typeof VEGA_DEBUG == \"undefined\") ? {} : VEGA_DEBUG;\n",
       "  (function(spec, embedOpt){\n",
       "    let outputDiv = document.currentScript.previousElementSibling;\n",
       "    if (outputDiv.id !== \"altair-viz-a0a2563933de45a3ae7e1768de949e9d\") {\n",
       "      outputDiv = document.getElementById(\"altair-viz-a0a2563933de45a3ae7e1768de949e9d\");\n",
       "    }\n",
       "    const paths = {\n",
       "      \"vega\": \"https://cdn.jsdelivr.net/npm//vega@5?noext\",\n",
       "      \"vega-lib\": \"https://cdn.jsdelivr.net/npm//vega-lib?noext\",\n",
       "      \"vega-lite\": \"https://cdn.jsdelivr.net/npm//vega-lite@4.17.0?noext\",\n",
       "      \"vega-embed\": \"https://cdn.jsdelivr.net/npm//vega-embed@6?noext\",\n",
       "    };\n",
       "\n",
       "    function maybeLoadScript(lib, version) {\n",
       "      var key = `${lib.replace(\"-\", \"\")}_version`;\n",
       "      return (VEGA_DEBUG[key] == version) ?\n",
       "        Promise.resolve(paths[lib]) :\n",
       "        new Promise(function(resolve, reject) {\n",
       "          var s = document.createElement('script');\n",
       "          document.getElementsByTagName(\"head\")[0].appendChild(s);\n",
       "          s.async = true;\n",
       "          s.onload = () => {\n",
       "            VEGA_DEBUG[key] = version;\n",
       "            return resolve(paths[lib]);\n",
       "          };\n",
       "          s.onerror = () => reject(`Error loading script: ${paths[lib]}`);\n",
       "          s.src = paths[lib];\n",
       "        });\n",
       "    }\n",
       "\n",
       "    function showError(err) {\n",
       "      outputDiv.innerHTML = `<div class=\"error\" style=\"color:red;\">${err}</div>`;\n",
       "      throw err;\n",
       "    }\n",
       "\n",
       "    function displayChart(vegaEmbed) {\n",
       "      vegaEmbed(outputDiv, spec, embedOpt)\n",
       "        .catch(err => showError(`Javascript Error: ${err.message}<br>This usually means there's a typo in your chart specification. See the javascript console for the full traceback.`));\n",
       "    }\n",
       "\n",
       "    if(typeof define === \"function\" && define.amd) {\n",
       "      requirejs.config({paths});\n",
       "      require([\"vega-embed\"], displayChart, err => showError(`Error loading script: ${err.message}`));\n",
       "    } else {\n",
       "      maybeLoadScript(\"vega\", \"5\")\n",
       "        .then(() => maybeLoadScript(\"vega-lite\", \"4.17.0\"))\n",
       "        .then(() => maybeLoadScript(\"vega-embed\", \"6\"))\n",
       "        .catch(showError)\n",
       "        .then(() => displayChart(vegaEmbed));\n",
       "    }\n",
       "  })({\"config\": {\"view\": {\"continuousWidth\": 400, \"continuousHeight\": 300}}, \"layer\": [{\"mark\": \"circle\", \"encoding\": {\"x\": {\"field\": \"Entity_Weighted_Count\", \"scale\": {\"zero\": false}, \"title\": \"Weighted Number of Shared Entities in Headline\", \"type\": \"quantitative\"}, \"y\": {\"field\": \"Views\", \"scale\": {\"zero\": false}, \"title\": \"Article Page Views\", \"type\": \"quantitative\"}}}, {\"mark\": \"line\", \"encoding\": {\"x\": {\"field\": \"Entity_Weighted_Count\", \"scale\": {\"zero\": false}, \"title\": \"Weighted Number of Shared Entities in Headline\", \"type\": \"quantitative\"}, \"y\": {\"field\": \"Views\", \"scale\": {\"zero\": false}, \"title\": \"Article Page Views\", \"type\": \"quantitative\"}}, \"transform\": [{\"on\": \"Entity_Weighted_Count\", \"regression\": \"Views\"}]}], \"data\": {\"name\": \"data-28b1a74250760ad1fc9a77c2cee41a96\"}, \"$schema\": \"https://vega.github.io/schema/vega-lite/v4.17.0.json\", \"datasets\": {\"data-28b1a74250760ad1fc9a77c2cee41a96\": [{\"Entity_Weighted_Count\": 6, \"Views\": 616}, {\"Entity_Weighted_Count\": 9, \"Views\": 701}, {\"Entity_Weighted_Count\": 3, \"Views\": 1097}, {\"Entity_Weighted_Count\": 0, \"Views\": 748}, {\"Entity_Weighted_Count\": 4, \"Views\": 1458}, {\"Entity_Weighted_Count\": 23, \"Views\": 1267}, {\"Entity_Weighted_Count\": 10, \"Views\": 1276}, {\"Entity_Weighted_Count\": 2, \"Views\": 795}, {\"Entity_Weighted_Count\": 0, \"Views\": 769}, {\"Entity_Weighted_Count\": 3, \"Views\": 822}, {\"Entity_Weighted_Count\": 10, \"Views\": 771}, {\"Entity_Weighted_Count\": 1, \"Views\": 864}, {\"Entity_Weighted_Count\": 0, \"Views\": 742}, {\"Entity_Weighted_Count\": 4, \"Views\": 823}, {\"Entity_Weighted_Count\": 0, \"Views\": 972}, {\"Entity_Weighted_Count\": 8, \"Views\": 1024}, {\"Entity_Weighted_Count\": 3, \"Views\": 1173}, {\"Entity_Weighted_Count\": 3, \"Views\": 768}, {\"Entity_Weighted_Count\": 3, \"Views\": 1191}, {\"Entity_Weighted_Count\": 6, \"Views\": 610}, {\"Entity_Weighted_Count\": 2, \"Views\": 1413}, {\"Entity_Weighted_Count\": 19, \"Views\": 2973}, {\"Entity_Weighted_Count\": 0, \"Views\": 2171}, {\"Entity_Weighted_Count\": 0, \"Views\": 835}, {\"Entity_Weighted_Count\": 0, \"Views\": 1046}, {\"Entity_Weighted_Count\": 2, \"Views\": 1797}, {\"Entity_Weighted_Count\": 4, \"Views\": 1742}, {\"Entity_Weighted_Count\": 0, \"Views\": 1384}, {\"Entity_Weighted_Count\": 16, \"Views\": 2586}, {\"Entity_Weighted_Count\": 14, \"Views\": 2511}, {\"Entity_Weighted_Count\": 8, \"Views\": 1621}, {\"Entity_Weighted_Count\": 0, \"Views\": 1756}, {\"Entity_Weighted_Count\": 6, \"Views\": 1411}, {\"Entity_Weighted_Count\": 1, \"Views\": 1238}, {\"Entity_Weighted_Count\": 0, \"Views\": 997}, {\"Entity_Weighted_Count\": 1, \"Views\": 654}, {\"Entity_Weighted_Count\": 6, \"Views\": 1567}, {\"Entity_Weighted_Count\": 0, \"Views\": 1177}, {\"Entity_Weighted_Count\": 6, \"Views\": 4014}, {\"Entity_Weighted_Count\": 0, \"Views\": 2800}, {\"Entity_Weighted_Count\": 1, \"Views\": 2141}, {\"Entity_Weighted_Count\": 20, \"Views\": 2322}, {\"Entity_Weighted_Count\": 0, \"Views\": 1255}, {\"Entity_Weighted_Count\": 14, \"Views\": 1541}, {\"Entity_Weighted_Count\": 7, \"Views\": 1640}, {\"Entity_Weighted_Count\": 0, \"Views\": 1301}, {\"Entity_Weighted_Count\": 5, \"Views\": 3270}, {\"Entity_Weighted_Count\": 3, \"Views\": 902}, {\"Entity_Weighted_Count\": 6, \"Views\": 2049}, {\"Entity_Weighted_Count\": 1, \"Views\": 789}, {\"Entity_Weighted_Count\": 11, \"Views\": 1421}, {\"Entity_Weighted_Count\": 9, \"Views\": 1040}, {\"Entity_Weighted_Count\": 7, \"Views\": 1415}, {\"Entity_Weighted_Count\": 11, \"Views\": 1750}, {\"Entity_Weighted_Count\": 3, \"Views\": 1236}, {\"Entity_Weighted_Count\": 1, \"Views\": 1165}, {\"Entity_Weighted_Count\": 21, \"Views\": 1267}, {\"Entity_Weighted_Count\": 11, \"Views\": 1560}, {\"Entity_Weighted_Count\": 4, \"Views\": 1050}, {\"Entity_Weighted_Count\": 2, \"Views\": 1480}, {\"Entity_Weighted_Count\": 0, \"Views\": 691}, {\"Entity_Weighted_Count\": 1, \"Views\": 1623}, {\"Entity_Weighted_Count\": 1, \"Views\": 1535}, {\"Entity_Weighted_Count\": 13, \"Views\": 3773}]}}, {\"mode\": \"vega-lite\"});\n",
       "</script>"
      ],
      "text/plain": [
       "alt.LayerChart(...)"
      ]
     },
     "execution_count": 55,
     "metadata": {},
     "output_type": "execute_result"
    }
   ],
   "source": [
    "scatter_weightentcountviews = alt.Chart(df[['Entity_Weighted_Count', 'Views']]).mark_circle().encode(\n",
    "    y = alt.Y('Views', title = 'Article Page Views', scale = alt.Scale(zero = False)),\n",
    "    x = alt.X('Entity_Weighted_Count', title = 'Weighted Number of Shared Entities in Headline', scale = alt.Scale(zero = False))\n",
    ")\n",
    "scatter_weightentcountviews + scatter_weightentcountviews.transform_regression('Entity_Weighted_Count', 'Views').mark_line()"
   ]
  },
  {
   "cell_type": "markdown",
   "metadata": {},
   "source": [
    "Pearson correlation coefficient: 0.31823466, meaning low positive correlation"
   ]
  },
  {
   "cell_type": "code",
   "execution_count": 56,
   "metadata": {},
   "outputs": [
    {
     "data": {
      "text/plain": [
       "array([[1.        , 0.34506912],\n",
       "       [0.34506912, 1.        ]])"
      ]
     },
     "execution_count": 56,
     "metadata": {},
     "output_type": "execute_result"
    }
   ],
   "source": [
    "np.corrcoef(df.Entity_Weighted_Count, df.Views)"
   ]
  }
 ],
 "metadata": {
  "kernelspec": {
   "display_name": "Python 3 (ipykernel)",
   "language": "python",
   "name": "python3"
  },
  "language_info": {
   "codemirror_mode": {
    "name": "ipython",
    "version": 3
   },
   "file_extension": ".py",
   "mimetype": "text/x-python",
   "name": "python",
   "nbconvert_exporter": "python",
   "pygments_lexer": "ipython3",
   "version": "3.9.7"
  }
 },
 "nbformat": 4,
 "nbformat_minor": 4
}
